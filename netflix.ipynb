{
 "cells": [
  {
   "cell_type": "markdown",
   "source": [
    "# Netflix: Exploratory Data Analysis "
   ],
   "metadata": {}
  },
  {
   "cell_type": "markdown",
   "source": [
    "In this notebook we perform some exploratory data analysis to answer Netflix related questions. Netflix is one of the leading streaming platforms in the world, with a diverse catalog encompassing movies and series for different audiences. Data visualization will be highly used to give insights of the data. The dataset is available on [Kaggle](https://www.kaggle.com/datasets/shivamb/netflix-shows)"
   ],
   "metadata": {}
  },
  {
   "cell_type": "markdown",
   "source": [
    "## Dataset Cleaning\n",
    "\n",
    "We first import some useful modules for the datavisualization and analysis"
   ],
   "metadata": {}
  },
  {
   "cell_type": "code",
   "execution_count": 1,
   "source": [
    "import pandas as pd               # data cleaning and analysis\n",
    "import matplotlib.pyplot as plt   # visualization\n",
    "import seaborn as sns             # visualization\n",
    "import numpy as np\n",
    "import plotly.express as px\n",
    "import matplotlib"
   ],
   "outputs": [],
   "metadata": {}
  },
  {
   "cell_type": "markdown",
   "source": [
    "Let's start by getting some information of the dataset"
   ],
   "metadata": {}
  },
  {
   "cell_type": "code",
   "execution_count": 2,
   "source": [
    "df = pd.read_csv('netflix_titles.csv')  # reading the csv file\n",
    "df.info()                               # getting info of the dataset"
   ],
   "outputs": [
    {
     "output_type": "stream",
     "name": "stdout",
     "text": [
      "<class 'pandas.core.frame.DataFrame'>\n",
      "RangeIndex: 8807 entries, 0 to 8806\n",
      "Data columns (total 12 columns):\n",
      " #   Column        Non-Null Count  Dtype \n",
      "---  ------        --------------  ----- \n",
      " 0   show_id       8807 non-null   object\n",
      " 1   type          8807 non-null   object\n",
      " 2   title         8807 non-null   object\n",
      " 3   director      6173 non-null   object\n",
      " 4   cast          7982 non-null   object\n",
      " 5   country       7976 non-null   object\n",
      " 6   date_added    8797 non-null   object\n",
      " 7   release_year  8807 non-null   int64 \n",
      " 8   rating        8803 non-null   object\n",
      " 9   duration      8804 non-null   object\n",
      " 10  listed_in     8807 non-null   object\n",
      " 11  description   8807 non-null   object\n",
      "dtypes: int64(1), object(11)\n",
      "memory usage: 825.8+ KB\n"
     ]
    }
   ],
   "metadata": {}
  },
  {
   "cell_type": "markdown",
   "source": [
    "As we can see there are some missing data from the dataset, e.g. `director` or `cast`. Let's get an idea of the percentage of missing data. "
   ],
   "metadata": {}
  },
  {
   "cell_type": "code",
   "execution_count": 3,
   "source": [
    "100*(df.isna().sum()/len(df)).to_frame(name=\"percentage missing data\").round(4)\n"
   ],
   "outputs": [
    {
     "output_type": "execute_result",
     "data": {
      "text/html": [
       "<div>\n",
       "<style scoped>\n",
       "    .dataframe tbody tr th:only-of-type {\n",
       "        vertical-align: middle;\n",
       "    }\n",
       "\n",
       "    .dataframe tbody tr th {\n",
       "        vertical-align: top;\n",
       "    }\n",
       "\n",
       "    .dataframe thead th {\n",
       "        text-align: right;\n",
       "    }\n",
       "</style>\n",
       "<table border=\"1\" class=\"dataframe\">\n",
       "  <thead>\n",
       "    <tr style=\"text-align: right;\">\n",
       "      <th></th>\n",
       "      <th>percentage missing data</th>\n",
       "    </tr>\n",
       "  </thead>\n",
       "  <tbody>\n",
       "    <tr>\n",
       "      <th>show_id</th>\n",
       "      <td>0.00</td>\n",
       "    </tr>\n",
       "    <tr>\n",
       "      <th>type</th>\n",
       "      <td>0.00</td>\n",
       "    </tr>\n",
       "    <tr>\n",
       "      <th>title</th>\n",
       "      <td>0.00</td>\n",
       "    </tr>\n",
       "    <tr>\n",
       "      <th>director</th>\n",
       "      <td>29.91</td>\n",
       "    </tr>\n",
       "    <tr>\n",
       "      <th>cast</th>\n",
       "      <td>9.37</td>\n",
       "    </tr>\n",
       "    <tr>\n",
       "      <th>country</th>\n",
       "      <td>9.44</td>\n",
       "    </tr>\n",
       "    <tr>\n",
       "      <th>date_added</th>\n",
       "      <td>0.11</td>\n",
       "    </tr>\n",
       "    <tr>\n",
       "      <th>release_year</th>\n",
       "      <td>0.00</td>\n",
       "    </tr>\n",
       "    <tr>\n",
       "      <th>rating</th>\n",
       "      <td>0.05</td>\n",
       "    </tr>\n",
       "    <tr>\n",
       "      <th>duration</th>\n",
       "      <td>0.03</td>\n",
       "    </tr>\n",
       "    <tr>\n",
       "      <th>listed_in</th>\n",
       "      <td>0.00</td>\n",
       "    </tr>\n",
       "    <tr>\n",
       "      <th>description</th>\n",
       "      <td>0.00</td>\n",
       "    </tr>\n",
       "  </tbody>\n",
       "</table>\n",
       "</div>"
      ],
      "text/plain": [
       "              percentage missing data\n",
       "show_id                          0.00\n",
       "type                             0.00\n",
       "title                            0.00\n",
       "director                        29.91\n",
       "cast                             9.37\n",
       "country                          9.44\n",
       "date_added                       0.11\n",
       "release_year                     0.00\n",
       "rating                           0.05\n",
       "duration                         0.03\n",
       "listed_in                        0.00\n",
       "description                      0.00"
      ]
     },
     "metadata": {},
     "execution_count": 3
    }
   ],
   "metadata": {}
  },
  {
   "cell_type": "markdown",
   "source": [
    "Most of the data missing concerns the attribute `director` (roughly 30%), `cast` and `country` (roughly 9.5%). We will not use `director` (or `cast`) information during our analysis, hence we can leave it as it is, and do not erase the empty rows. This is done to preserve the integrity of the dataset, and to not miss any valuable information. We will use `country` information, but we will keep (for same reason as above) empty rows.\n",
    "\n",
    "Notice that, before proceding in the visualization, the date should be changed. In particular, we want to add some columns to know when a movie is added (month, year)."
   ],
   "metadata": {}
  },
  {
   "cell_type": "code",
   "execution_count": 4,
   "source": [
    "df[\"date_added\"] = pd.to_datetime(df['date_added'])\n",
    "df['month_added'] = df['date_added'].dt.month\n",
    "df['month_name_added'] = df['date_added'].dt.month_name()\n",
    "df['year_added'] = df['date_added'].dt.year\n"
   ],
   "outputs": [],
   "metadata": {}
  },
  {
   "cell_type": "markdown",
   "source": [
    "Great, now also date is okay! Let's start with some visualizations."
   ],
   "metadata": {}
  },
  {
   "cell_type": "markdown",
   "source": [
    "## Visualizations\n",
    "\n",
    "We will striclty focus on answering three questions:\n",
    "\n",
    "* Question 1\n",
    "* Question 2\n",
    "* Question 3\n",
    "\n",
    "Notice that where possible, we will use Netflix colorscheme palette and font type. Nice tip from this [website](https://www.kaggle.com/code/joshuaswords/netflix-data-visualization)."
   ],
   "metadata": {}
  },
  {
   "cell_type": "code",
   "execution_count": 5,
   "source": [
    "sns.palplot(['#221f1f', '#b20710', '#e50914', '#f5f5f1'])  # palette\n",
    "\n",
    "plt.title(\"Netflix brand palette \", loc='left',\n",
    "          fontfamily='serif', fontsize=18, y=1.2)\n",
    "plt.show()\n",
    " "
   ],
   "outputs": [
    {
     "output_type": "display_data",
     "data": {
      "image/png": "[encoded data removed]",
      "text/plain": [
       "<Figure size 288x72 with 1 Axes>"
      ]
     },
     "metadata": {
      "needs_background": "light"
     }
    }
   ],
   "metadata": {}
  },
  {
   "cell_type": "markdown",
   "source": [
    "### Questions\n",
    "\n",
    "1. Which thems are more appealing for netflix users? And in what format? (bar plot)\n",
    "2. What are the most themes for each country production? (grafico con connessioni)\n",
    "3. small multiples paesi con time"
   ],
   "metadata": {}
  },
  {
   "cell_type": "markdown",
   "source": [
    "### Viz 1"
   ],
   "metadata": {}
  },
  {
   "cell_type": "code",
   "execution_count": 6,
   "source": [
    "# Generate the dataset\n",
    "\n",
    "df['genre'] = df['listed_in'].apply(\n",
    "    lambda x:  x.replace(' ,', ',').replace(', ', ',').split(','))\n",
    "Types = []\n",
    "for i in df['genre']:\n",
    "    Types += i\n",
    "    \n",
    "unique_genres = list(set(Types))\n",
    "# create new df\n",
    "tmp = pd.DataFrame(unique_genres)\n",
    "tmp.columns = [\"genres\"]\n",
    "tmp[\"genres\"] = tmp[\"genres\"].apply(\n",
    "    lambda x:  x.replace('TV Shows', '').replace(' TV Shows', '').replace(' TV Shows ', '').replace('TV Shows ', '').replace(' TV', '').replace(' TV ', '').replace('TV ', ''))\n",
    "tmp[\"genres\"] = tmp[\"genres\"].apply(\n",
    "    lambda x:  x.replace(' Movies', '').replace(\n",
    "        ' Movies ', '').replace('Movies ', '').replace('Movies', '').replace(' Series', '').replace(\n",
    "        ' Series ', '').replace('Series ', ''))\n",
    "tmp[\"genres\"] = tmp[\"genres\"].apply(lambda x:  x.replace(' ', ''))\n",
    "unique_genres = tmp.dropna()[\"genres\"].unique()[1:]\n",
    "genres_df = pd.DataFrame(unique_genres)\n",
    "genres_df.columns = [\"genres\"]\n",
    "empty = np.zeros(len(genres_df))\n",
    "genres_df[\"movies\"] = empty\n",
    "genres_df[\"tv\"] = empty\n",
    "df['genre_split'] = df['listed_in'].apply(\n",
    "    lambda x:  x.replace(' ,', ',').replace(', ', ',').replace(' ', ',').split(','))\n",
    "\n",
    "\n",
    "def contains_word(s, w):\n",
    "    a = (' ' + w) in (' ' + s)\n",
    "    return a\n",
    "\n",
    "\n",
    "for tidx, type_ in enumerate(genres_df['genres']):\n",
    "    movies = 0\n",
    "    tv = 0\n",
    "    for idx, i in enumerate(df['genre_split']):\n",
    "        for word in i:\n",
    "            if word == 'Docuseries':\n",
    "                word = 'Documentaries'\n",
    "            if word == \"Kids'\":\n",
    "                word = 'Children&Family'\n",
    "            if word == 'Thrillers':\n",
    "                word = 'Crime'\n",
    "\n",
    "            if contains_word(type_, word):\n",
    "                if df[\"type\"][idx] == 'Movie':\n",
    "                    movies += 1\n",
    "                else:\n",
    "                    tv += 1\n",
    "\n",
    "    genres_df[\"movies\"][tidx] = movies\n",
    "    genres_df[\"tv\"][tidx] = tv\n",
    "\n",
    "genres_df['tot_count'] = genres_df['movies']+genres_df['tv']\n",
    "genres_df['percentage_movies'] = (\n",
    "    genres_df['movies'] / genres_df['tot_count']) \n",
    "genres_df['percentage_tv'] = (genres_df['tv'] / genres_df['tot_count'])\n",
    "genres_df = genres_df.sort_values('tot_count', ascending=False).dropna()\n",
    "tmp\n",
    "\n"
   ],
   "outputs": [
    {
     "output_type": "stream",
     "name": "stderr",
     "text": [
      "/var/folders/k7/4r6y5q6904j1f009bpqwhy380000gn/T/ipykernel_7252/158690912.py:53: SettingWithCopyWarning: \n",
      "A value is trying to be set on a copy of a slice from a DataFrame\n",
      "\n",
      "See the caveats in the documentation: https://pandas.pydata.org/pandas-docs/stable/user_guide/indexing.html#returning-a-view-versus-a-copy\n",
      "  genres_df[\"movies\"][tidx] = movies\n",
      "/var/folders/k7/4r6y5q6904j1f009bpqwhy380000gn/T/ipykernel_7252/158690912.py:54: SettingWithCopyWarning: \n",
      "A value is trying to be set on a copy of a slice from a DataFrame\n",
      "\n",
      "See the caveats in the documentation: https://pandas.pydata.org/pandas-docs/stable/user_guide/indexing.html#returning-a-view-versus-a-copy\n",
      "  genres_df[\"tv\"][tidx] = tv\n"
     ]
    },
    {
     "output_type": "execute_result",
     "data": {
      "text/html": [
       "<div>\n",
       "<style scoped>\n",
       "    .dataframe tbody tr th:only-of-type {\n",
       "        vertical-align: middle;\n",
       "    }\n",
       "\n",
       "    .dataframe tbody tr th {\n",
       "        vertical-align: top;\n",
       "    }\n",
       "\n",
       "    .dataframe thead th {\n",
       "        text-align: right;\n",
       "    }\n",
       "</style>\n",
       "<table border=\"1\" class=\"dataframe\">\n",
       "  <thead>\n",
       "    <tr style=\"text-align: right;\">\n",
       "      <th></th>\n",
       "      <th>genres</th>\n",
       "    </tr>\n",
       "  </thead>\n",
       "  <tbody>\n",
       "    <tr>\n",
       "      <th>0</th>\n",
       "      <td>Horror</td>\n",
       "    </tr>\n",
       "    <tr>\n",
       "      <th>1</th>\n",
       "      <td>British</td>\n",
       "    </tr>\n",
       "    <tr>\n",
       "      <th>2</th>\n",
       "      <td>Comedies</td>\n",
       "    </tr>\n",
       "    <tr>\n",
       "      <th>3</th>\n",
       "      <td>Classic&amp;Cult</td>\n",
       "    </tr>\n",
       "    <tr>\n",
       "      <th>4</th>\n",
       "      <td>Crime</td>\n",
       "    </tr>\n",
       "    <tr>\n",
       "      <th>5</th>\n",
       "      <td>Comedies</td>\n",
       "    </tr>\n",
       "    <tr>\n",
       "      <th>6</th>\n",
       "      <td>Children&amp;Family</td>\n",
       "    </tr>\n",
       "    <tr>\n",
       "      <th>7</th>\n",
       "      <td>Documentaries</td>\n",
       "    </tr>\n",
       "    <tr>\n",
       "      <th>8</th>\n",
       "      <td>Classic</td>\n",
       "    </tr>\n",
       "    <tr>\n",
       "      <th>9</th>\n",
       "      <td>Science&amp;Nature</td>\n",
       "    </tr>\n",
       "    <tr>\n",
       "      <th>10</th>\n",
       "      <td>International</td>\n",
       "    </tr>\n",
       "    <tr>\n",
       "      <th>11</th>\n",
       "      <td>Thrillers</td>\n",
       "    </tr>\n",
       "    <tr>\n",
       "      <th>12</th>\n",
       "      <td>Action&amp;Adventure</td>\n",
       "    </tr>\n",
       "    <tr>\n",
       "      <th>13</th>\n",
       "      <td>Spanish-Language</td>\n",
       "    </tr>\n",
       "    <tr>\n",
       "      <th>14</th>\n",
       "      <td>Stand-UpComedy&amp;TalkShows</td>\n",
       "    </tr>\n",
       "    <tr>\n",
       "      <th>15</th>\n",
       "      <td>Horror</td>\n",
       "    </tr>\n",
       "    <tr>\n",
       "      <th>16</th>\n",
       "      <td>Sci-Fi&amp;Fantasy</td>\n",
       "    </tr>\n",
       "    <tr>\n",
       "      <th>17</th>\n",
       "      <td>Reality</td>\n",
       "    </tr>\n",
       "    <tr>\n",
       "      <th>18</th>\n",
       "      <td>Cult</td>\n",
       "    </tr>\n",
       "    <tr>\n",
       "      <th>19</th>\n",
       "      <td>LGBTQ</td>\n",
       "    </tr>\n",
       "    <tr>\n",
       "      <th>20</th>\n",
       "      <td>Faith&amp;Spirituality</td>\n",
       "    </tr>\n",
       "    <tr>\n",
       "      <th>21</th>\n",
       "      <td>AnimeFeatures</td>\n",
       "    </tr>\n",
       "    <tr>\n",
       "      <th>22</th>\n",
       "      <td>Sci-Fi&amp;Fantasy</td>\n",
       "    </tr>\n",
       "    <tr>\n",
       "      <th>23</th>\n",
       "      <td>Korean</td>\n",
       "    </tr>\n",
       "    <tr>\n",
       "      <th>24</th>\n",
       "      <td>Kids'</td>\n",
       "    </tr>\n",
       "    <tr>\n",
       "      <th>25</th>\n",
       "      <td>Dramas</td>\n",
       "    </tr>\n",
       "    <tr>\n",
       "      <th>26</th>\n",
       "      <td>Dramas</td>\n",
       "    </tr>\n",
       "    <tr>\n",
       "      <th>27</th>\n",
       "      <td>Music&amp;Musicals</td>\n",
       "    </tr>\n",
       "    <tr>\n",
       "      <th>28</th>\n",
       "      <td>Teen</td>\n",
       "    </tr>\n",
       "    <tr>\n",
       "      <th>29</th>\n",
       "      <td></td>\n",
       "    </tr>\n",
       "    <tr>\n",
       "      <th>30</th>\n",
       "      <td>Independent</td>\n",
       "    </tr>\n",
       "    <tr>\n",
       "      <th>31</th>\n",
       "      <td>Thrillers</td>\n",
       "    </tr>\n",
       "    <tr>\n",
       "      <th>32</th>\n",
       "      <td>Mysteries</td>\n",
       "    </tr>\n",
       "    <tr>\n",
       "      <th>33</th>\n",
       "      <td>Anime</td>\n",
       "    </tr>\n",
       "    <tr>\n",
       "      <th>34</th>\n",
       "      <td>Stand-UpComedy</td>\n",
       "    </tr>\n",
       "    <tr>\n",
       "      <th>35</th>\n",
       "      <td>Docuseries</td>\n",
       "    </tr>\n",
       "    <tr>\n",
       "      <th>36</th>\n",
       "      <td></td>\n",
       "    </tr>\n",
       "    <tr>\n",
       "      <th>37</th>\n",
       "      <td>Romantic</td>\n",
       "    </tr>\n",
       "    <tr>\n",
       "      <th>38</th>\n",
       "      <td>Sports</td>\n",
       "    </tr>\n",
       "    <tr>\n",
       "      <th>39</th>\n",
       "      <td>Romantic</td>\n",
       "    </tr>\n",
       "    <tr>\n",
       "      <th>40</th>\n",
       "      <td>International</td>\n",
       "    </tr>\n",
       "    <tr>\n",
       "      <th>41</th>\n",
       "      <td>Action&amp;Adventure</td>\n",
       "    </tr>\n",
       "  </tbody>\n",
       "</table>\n",
       "</div>"
      ],
      "text/plain": [
       "                      genres\n",
       "0                     Horror\n",
       "1                    British\n",
       "2                   Comedies\n",
       "3               Classic&Cult\n",
       "4                      Crime\n",
       "5                   Comedies\n",
       "6            Children&Family\n",
       "7              Documentaries\n",
       "8                    Classic\n",
       "9             Science&Nature\n",
       "10             International\n",
       "11                 Thrillers\n",
       "12          Action&Adventure\n",
       "13          Spanish-Language\n",
       "14  Stand-UpComedy&TalkShows\n",
       "15                    Horror\n",
       "16            Sci-Fi&Fantasy\n",
       "17                   Reality\n",
       "18                      Cult\n",
       "19                     LGBTQ\n",
       "20        Faith&Spirituality\n",
       "21             AnimeFeatures\n",
       "22            Sci-Fi&Fantasy\n",
       "23                    Korean\n",
       "24                     Kids'\n",
       "25                    Dramas\n",
       "26                    Dramas\n",
       "27            Music&Musicals\n",
       "28                      Teen\n",
       "29                          \n",
       "30               Independent\n",
       "31                 Thrillers\n",
       "32                 Mysteries\n",
       "33                     Anime\n",
       "34            Stand-UpComedy\n",
       "35                Docuseries\n",
       "36                          \n",
       "37                  Romantic\n",
       "38                    Sports\n",
       "39                  Romantic\n",
       "40             International\n",
       "41          Action&Adventure"
      ]
     },
     "metadata": {},
     "execution_count": 6
    }
   ],
   "metadata": {}
  },
  {
   "cell_type": "code",
   "execution_count": 7,
   "source": [
    "df = genres_df[:8]\n",
    "data_q2q3_ratio = pd.DataFrame(df['genres'])\n",
    "data_q2q3_ratio.columns = [\"type\"]\n",
    "data_q2q3_ratio[\"Movie\"] = df['percentage_movies']\n",
    "data_q2q3_ratio[\"TV Show\"] = df['percentage_tv']\n"
   ],
   "outputs": [],
   "metadata": {}
  },
  {
   "cell_type": "code",
   "execution_count": 8,
   "source": [
    "data_q2q3_ratio = data_q2q3_ratio.sort_values(\"Movie\", ascending=True)\n",
    "data_q2q3_ratio = data_q2q3_ratio.set_index('type')\n"
   ],
   "outputs": [],
   "metadata": {}
  },
  {
   "cell_type": "code",
   "execution_count": 9,
   "source": [
    "# fig, ax = plt.subplots(1,1,figsize=(15, 8),)\n",
    "\n",
    "# ax.barh(data_q2q3_ratio.index, data_q2q3_ratio['Movie'], \n",
    "#         color='#b20710', alpha=0.8, label='Movie')\n",
    "# ax.barh(data_q2q3_ratio.index, data_q2q3_ratio['TV Show'], left=data_q2q3_ratio['Movie'], \n",
    "#         color='#221f1f', alpha=0.8, label='TV Show')\n",
    "\n",
    "\n",
    "# ax.set_xlim(0, 1)\n",
    "# ax.set_xticks([])\n",
    "# ax.set_yticklabels(data_q2q3_ratio.index, fontfamily='serif', fontsize=11)\n",
    "\n",
    "# # male percentage\n",
    "# for i in data_q2q3_ratio.index:\n",
    "#     ax.annotate(f\"{data_q2q3_ratio['Movie'][i]*100:.3}%\", \n",
    "#                    xy=(data_q2q3_ratio['Movie'][i]/2, i),\n",
    "#                    va = 'center', ha='center',fontsize=12, fontweight='light', fontfamily='serif',\n",
    "#                    color='white')\n",
    "\n",
    "# for i in data_q2q3_ratio.index:\n",
    "#     ax.annotate(f\"{data_q2q3_ratio['TV Show'][i]*100:.3}%\", \n",
    "#                    xy=(data_q2q3_ratio['Movie'][i]+data_q2q3_ratio['TV Show'][i]/2, i),\n",
    "#                    va = 'center', ha='center',fontsize=12, fontweight='light', fontfamily='serif',\n",
    "#                    color='white')\n",
    "    \n",
    "\n",
    "# fig.text(0.13, 0.93, 'Top 8 genre for Movie & TV Show split', fontsize=18, fontweight='bold', fontfamily='serif')   \n",
    "# fig.text(0.131, 0.89, 'Percent Stacked Bar Chart', fontsize=14,fontfamily='serif')   \n",
    "\n",
    "# for s in ['top', 'left', 'right', 'bottom']:\n",
    "#     ax.spines[s].set_visible(False)\n",
    "    \n",
    "# #ax.legend(loc='lower center', ncol=3, bbox_to_anchor=(0.5, -0.06))\n",
    "\n",
    "# fig.text(0.75,0.9,\"Movie\", fontweight=\"bold\", fontfamily='serif', fontsize=15, color='#b20710')\n",
    "# fig.text(0.81,0.9,\"|\", fontweight=\"bold\", fontfamily='serif', fontsize=15, color='black')\n",
    "# fig.text(0.82, 0.9, \"TV Show\", fontweight=\"bold\",\n",
    "#          fontfamily='serif', fontsize=15, color='#221f1f')\n",
    "\n",
    "\n",
    "\n",
    "\n",
    "# import matplotlib.lines as lines\n",
    "# l1 = lines.Line2D([1, 1], [0, 1], transform=fig.transFigure, figure=fig,color='white',lw=0.2)\n",
    "# fig.lines.extend([l1])\n",
    "\n",
    "\n",
    "\n",
    "\n",
    "# ax.tick_params(axis='both', which='major', labelsize=12)\n",
    "# ax.tick_params(axis=u'both', which=u'both',length=0)\n",
    "\n",
    "\n",
    "# plt.savefig(\"fig1.pdf\", dpi=400)"
   ],
   "outputs": [],
   "metadata": {}
  },
  {
   "cell_type": "markdown",
   "source": [
    "### Viz2"
   ],
   "metadata": {}
  },
  {
   "cell_type": "code",
   "execution_count": 10,
   "source": [
    "#10 paesi con più prodotti\n",
    "\n",
    "from collections import Counter\n",
    "df2 = pd.read_csv('netflix_titles.csv')  # reading the csv file\n",
    "df2=df2.dropna(subset=['country'])\n",
    "\n",
    "df2['temp'] = df2['country'].apply(\n",
    "    lambda x:  x.replace(' ,', ',').replace(', ', ',').replace(' , ', ',').split(','))\n",
    "Countries = []\n",
    "for i in df2['temp']:\n",
    "    Countries += i\n",
    "unique_countries = list(set(Countries))\n",
    "countries_df = pd.DataFrame(unique_countries)\n",
    "countries_df.columns = [\"countries\"]\n",
    "conta = [item[0] for item in Counter(Countries).most_common(10)]\n",
    "countries_df = pd.DataFrame(conta)\n",
    "countries_df.columns = [\"countries\"]\n",
    "count_most_producers = dict(Counter(Countries))\n",
    "country_most_producers = sorted(count_most_producers,\n",
    "                        key=count_most_producers.get, reverse=True)\n",
    "\n"
   ],
   "outputs": [],
   "metadata": {}
  },
  {
   "cell_type": "code",
   "execution_count": 11,
   "source": [
    "import plotly.graph_objects as go\n",
    "import plotly.express as pex\n"
   ],
   "outputs": [],
   "metadata": {}
  },
  {
   "cell_type": "code",
   "execution_count": 12,
   "source": [
    "df = pd.read_csv('netflix_titles.csv')\n",
    "# Replacments\n",
    "\n",
    "df['country'] = df['country'].fillna(df['country'].mode()[0])\n",
    "\n",
    "\n",
    "df['cast'].replace(np.nan, 'No Data', inplace=True)\n",
    "df['director'].replace(np.nan, 'No Data', inplace=True)\n",
    "\n",
    "# Drops\n",
    "\n",
    "df.dropna(inplace=True)\n",
    "\n",
    "# Drop Duplicates\n",
    "\n",
    "df.drop_duplicates(inplace=True)\n"
   ],
   "outputs": [],
   "metadata": {}
  },
  {
   "cell_type": "code",
   "execution_count": 13,
   "source": [
    "# useful functions \n",
    "\n",
    "import pycountry_convert as pc\n",
    "\n",
    "def check_state(a):\n",
    "    if a == '':\n",
    "        a = None\n",
    "    if a == 'West Germany' or a == 'East Germany':\n",
    "        a = 'Germany'\n",
    "    if a == 'Soviet Union':\n",
    "        a = 'Russia'\n",
    "    if a == 'Vatican City':\n",
    "        a = 'Italy'\n",
    "    return a\n",
    "\n",
    "\n",
    "def country_to_continent(country_name):\n",
    "    country_alpha2 = pc.country_name_to_country_alpha2(country_name)\n",
    "    country_continent_code = pc.country_alpha2_to_continent_code(\n",
    "        country_alpha2)\n",
    "    country_continent_name = pc.convert_continent_code_to_continent_name(\n",
    "        country_continent_code)\n",
    "    return country_continent_name\n"
   ],
   "outputs": [],
   "metadata": {}
  },
  {
   "cell_type": "code",
   "execution_count": 14,
   "source": [
    "# get the countries\n",
    "new_df = df[['type', 'country']]\n",
    "new_df['country'] = new_df['country'].apply(lambda x: x.split(\",\")[0])\n",
    "new_df['country'] = new_df['country'].apply(check_state)\n",
    "new_df.dropna(inplace=True)\n",
    "new_df['continent'] = new_df['country'].apply(country_to_continent)\n",
    "\n",
    "# grouping by\n",
    "new_df = new_df.groupby([\"type\", \"country\", \"continent\"]\n",
    "               ).size().reset_index(name=\"count\")\n"
   ],
   "outputs": [
    {
     "output_type": "stream",
     "name": "stderr",
     "text": [
      "/var/folders/k7/4r6y5q6904j1f009bpqwhy380000gn/T/ipykernel_7252/3238992899.py:3: SettingWithCopyWarning: \n",
      "A value is trying to be set on a copy of a slice from a DataFrame.\n",
      "Try using .loc[row_indexer,col_indexer] = value instead\n",
      "\n",
      "See the caveats in the documentation: https://pandas.pydata.org/pandas-docs/stable/user_guide/indexing.html#returning-a-view-versus-a-copy\n",
      "  new_df['country'] = new_df['country'].apply(lambda x: x.split(\",\")[0])\n",
      "/var/folders/k7/4r6y5q6904j1f009bpqwhy380000gn/T/ipykernel_7252/3238992899.py:4: SettingWithCopyWarning: \n",
      "A value is trying to be set on a copy of a slice from a DataFrame.\n",
      "Try using .loc[row_indexer,col_indexer] = value instead\n",
      "\n",
      "See the caveats in the documentation: https://pandas.pydata.org/pandas-docs/stable/user_guide/indexing.html#returning-a-view-versus-a-copy\n",
      "  new_df['country'] = new_df['country'].apply(check_state)\n",
      "/usr/local/lib/python3.9/site-packages/pandas/util/_decorators.py:311: SettingWithCopyWarning: \n",
      "A value is trying to be set on a copy of a slice from a DataFrame\n",
      "\n",
      "See the caveats in the documentation: https://pandas.pydata.org/pandas-docs/stable/user_guide/indexing.html#returning-a-view-versus-a-copy\n",
      "  return func(*args, **kwargs)\n",
      "/var/folders/k7/4r6y5q6904j1f009bpqwhy380000gn/T/ipykernel_7252/3238992899.py:6: SettingWithCopyWarning: \n",
      "A value is trying to be set on a copy of a slice from a DataFrame.\n",
      "Try using .loc[row_indexer,col_indexer] = value instead\n",
      "\n",
      "See the caveats in the documentation: https://pandas.pydata.org/pandas-docs/stable/user_guide/indexing.html#returning-a-view-versus-a-copy\n",
      "  new_df['continent'] = new_df['country'].apply(country_to_continent)\n"
     ]
    }
   ],
   "metadata": {}
  },
  {
   "cell_type": "code",
   "execution_count": 15,
   "source": [
    "categories = ['type', 'continent', 'country']\n",
    "new_df_top = new_df[new_df['count'] > 35]\n",
    "newDf = pd.DataFrame()\n",
    "for i in range(len(categories)-1):\n",
    "    tempDf = new_df_top[[categories[i], categories[i+1], 'count']]\n",
    "    tempDf.columns = ['source', 'target', 'count']\n",
    "    newDf = pd.concat([newDf, tempDf])\n",
    "newDf = newDf.groupby(['source', 'target']).agg({'count': 'sum'}).reset_index()\n",
    "\n",
    "label_list = list(np.unique(new_df_top[categories].values))\n",
    "source = newDf['source'].apply(lambda x: label_list.index(x))\n",
    "target = newDf['target'].apply(lambda x: label_list.index(x))\n",
    "count = newDf['count']\n"
   ],
   "outputs": [],
   "metadata": {}
  },
  {
   "cell_type": "code",
   "execution_count": 16,
   "source": [
    "import pandas as pd\n",
    "import plotly.graph_objects as go\n",
    "import plotly.io as pio\n",
    "\n",
    "\n",
    "fig = go.Figure(\n",
    "    data=[go.Sankey(\n",
    "          arrangement=\"perpendicular\",\n",
    "        node={\"label\": label_list,\n",
    "              'pad':20,\n",
    "              'thickness':40,\n",
    "              'color': '#b20710',},\n",
    "\n",
    "        link={\"source\": source,\n",
    "              \"target\": target,\n",
    "              \"value\": count},\n",
    "        visible=True,\n",
    "        orientation=\"h\")\n",
    "          ])\n",
    "fig.update_layout(title_text=\"<b>Movie and TV Show Netlix production</b><br><sup>United States, India and United Kingdom on the top three for Netflix content production.</sup>\",\n",
    "                  font_size=12,\n",
    "                  title_font_size=20,\n",
    "                  font_family='Droid Serif',\n",
    "                  font_color='black',\n",
    "                  title_font_family='Droid Serif',\n",
    "                  title_font_color='black')\n",
    "fig.update_layout(\n",
    "    autosize=False,\n",
    "    width=10 * 80,\n",
    "    height=6.6 * 80,\n",
    ")\n",
    "fig.show()\n",
    "pio.write_image(fig, 'yourImage.pdf')\n"
   ],
   "outputs": [
    {
     "output_type": "display_data",
     "data": {
      "application/vnd.plotly.v1+json": {
       "data": [
        {
         "arrangement": "perpendicular",
         "link": {
          "source": [
           0,
           0,
           2,
           2,
           2,
           2,
           2,
           2,
           2,
           2,
           2,
           2,
           8,
           8,
           8,
           8,
           8,
           17,
           17,
           17,
           17,
           17,
           17,
           19,
           19,
           19,
           20,
           22,
           22,
           25,
           25,
           25,
           25
          ],
          "target": [
           7,
           18,
           6,
           11,
           12,
           13,
           15,
           21,
           23,
           26,
           27,
           28,
           9,
           10,
           14,
           24,
           29,
           0,
           2,
           8,
           19,
           20,
           22,
           5,
           16,
           30,
           3,
           1,
           4,
           2,
           8,
           19,
           20
          ],
          "value": [
           98,
           87,
           100,
           76,
           1008,
           83,
           257,
           77,
           211,
           70,
           41,
           81,
           212,
           79,
           47,
           181,
           627,
           185,
           1476,
           785,
           3073,
           61,
           112,
           271,
           134,
           4031,
           115,
           56,
           56,
           528,
           361,
           1363,
           54
          ]
         },
         "node": {
          "color": "#b20710",
          "label": [
           "Africa",
           "Argentina",
           "Asia",
           "Australia",
           "Brazil",
           "Canada",
           "China",
           "Egypt",
           "Europe",
           "France",
           "Germany",
           "Hong Kong",
           "India",
           "Indonesia",
           "Italy",
           "Japan",
           "Mexico",
           "Movie",
           "Nigeria",
           "North America",
           "Oceania",
           "Philippines",
           "South America",
           "South Korea",
           "Spain",
           "TV Show",
           "Taiwan",
           "Thailand",
           "Turkey",
           "United Kingdom",
           "United States"
          ],
          "pad": 20,
          "thickness": 40
         },
         "orientation": "h",
         "visible": true,
         "type": "sankey"
        }
       ],
       "layout": {
        "template": {
         "data": {
          "histogram2dcontour": [
           {
            "type": "histogram2dcontour",
            "colorbar": {
             "outlinewidth": 0,
             "ticks": ""
            },
            "colorscale": [
             [
              0,
              "#0d0887"
             ],
             [
              0.1111111111111111,
              "#46039f"
             ],
             [
              0.2222222222222222,
              "#7201a8"
             ],
             [
              0.3333333333333333,
              "#9c179e"
             ],
             [
              0.4444444444444444,
              "#bd3786"
             ],
             [
              0.5555555555555556,
              "#d8576b"
             ],
             [
              0.6666666666666666,
              "#ed7953"
             ],
             [
              0.7777777777777778,
              "#fb9f3a"
             ],
             [
              0.8888888888888888,
              "#fdca26"
             ],
             [
              1,
              "#f0f921"
             ]
            ]
           }
          ],
          "choropleth": [
           {
            "type": "choropleth",
            "colorbar": {
             "outlinewidth": 0,
             "ticks": ""
            }
           }
          ],
          "histogram2d": [
           {
            "type": "histogram2d",
            "colorbar": {
             "outlinewidth": 0,
             "ticks": ""
            },
            "colorscale": [
             [
              0,
              "#0d0887"
             ],
             [
              0.1111111111111111,
              "#46039f"
             ],
             [
              0.2222222222222222,
              "#7201a8"
             ],
             [
              0.3333333333333333,
              "#9c179e"
             ],
             [
              0.4444444444444444,
              "#bd3786"
             ],
             [
              0.5555555555555556,
              "#d8576b"
             ],
             [
              0.6666666666666666,
              "#ed7953"
             ],
             [
              0.7777777777777778,
              "#fb9f3a"
             ],
             [
              0.8888888888888888,
              "#fdca26"
             ],
             [
              1,
              "#f0f921"
             ]
            ]
           }
          ],
          "heatmap": [
           {
            "type": "heatmap",
            "colorbar": {
             "outlinewidth": 0,
             "ticks": ""
            },
            "colorscale": [
             [
              0,
              "#0d0887"
             ],
             [
              0.1111111111111111,
              "#46039f"
             ],
             [
              0.2222222222222222,
              "#7201a8"
             ],
             [
              0.3333333333333333,
              "#9c179e"
             ],
             [
              0.4444444444444444,
              "#bd3786"
             ],
             [
              0.5555555555555556,
              "#d8576b"
             ],
             [
              0.6666666666666666,
              "#ed7953"
             ],
             [
              0.7777777777777778,
              "#fb9f3a"
             ],
             [
              0.8888888888888888,
              "#fdca26"
             ],
             [
              1,
              "#f0f921"
             ]
            ]
           }
          ],
          "heatmapgl": [
           {
            "type": "heatmapgl",
            "colorbar": {
             "outlinewidth": 0,
             "ticks": ""
            },
            "colorscale": [
             [
              0,
              "#0d0887"
             ],
             [
              0.1111111111111111,
              "#46039f"
             ],
             [
              0.2222222222222222,
              "#7201a8"
             ],
             [
              0.3333333333333333,
              "#9c179e"
             ],
             [
              0.4444444444444444,
              "#bd3786"
             ],
             [
              0.5555555555555556,
              "#d8576b"
             ],
             [
              0.6666666666666666,
              "#ed7953"
             ],
             [
              0.7777777777777778,
              "#fb9f3a"
             ],
             [
              0.8888888888888888,
              "#fdca26"
             ],
             [
              1,
              "#f0f921"
             ]
            ]
           }
          ],
          "contourcarpet": [
           {
            "type": "contourcarpet",
            "colorbar": {
             "outlinewidth": 0,
             "ticks": ""
            }
           }
          ],
          "contour": [
           {
            "type": "contour",
            "colorbar": {
             "outlinewidth": 0,
             "ticks": ""
            },
            "colorscale": [
             [
              0,
              "#0d0887"
             ],
             [
              0.1111111111111111,
              "#46039f"
             ],
             [
              0.2222222222222222,
              "#7201a8"
             ],
             [
              0.3333333333333333,
              "#9c179e"
             ],
             [
              0.4444444444444444,
              "#bd3786"
             ],
             [
              0.5555555555555556,
              "#d8576b"
             ],
             [
              0.6666666666666666,
              "#ed7953"
             ],
             [
              0.7777777777777778,
              "#fb9f3a"
             ],
             [
              0.8888888888888888,
              "#fdca26"
             ],
             [
              1,
              "#f0f921"
             ]
            ]
           }
          ],
          "surface": [
           {
            "type": "surface",
            "colorbar": {
             "outlinewidth": 0,
             "ticks": ""
            },
            "colorscale": [
             [
              0,
              "#0d0887"
             ],
             [
              0.1111111111111111,
              "#46039f"
             ],
             [
              0.2222222222222222,
              "#7201a8"
             ],
             [
              0.3333333333333333,
              "#9c179e"
             ],
             [
              0.4444444444444444,
              "#bd3786"
             ],
             [
              0.5555555555555556,
              "#d8576b"
             ],
             [
              0.6666666666666666,
              "#ed7953"
             ],
             [
              0.7777777777777778,
              "#fb9f3a"
             ],
             [
              0.8888888888888888,
              "#fdca26"
             ],
             [
              1,
              "#f0f921"
             ]
            ]
           }
          ],
          "mesh3d": [
           {
            "type": "mesh3d",
            "colorbar": {
             "outlinewidth": 0,
             "ticks": ""
            }
           }
          ],
          "scatter": [
           {
            "fillpattern": {
             "fillmode": "overlay",
             "size": 10,
             "solidity": 0.2
            },
            "type": "scatter"
           }
          ],
          "parcoords": [
           {
            "type": "parcoords",
            "line": {
             "colorbar": {
              "outlinewidth": 0,
              "ticks": ""
             }
            }
           }
          ],
          "scatterpolargl": [
           {
            "type": "scatterpolargl",
            "marker": {
             "colorbar": {
              "outlinewidth": 0,
              "ticks": ""
             }
            }
           }
          ],
          "bar": [
           {
            "error_x": {
             "color": "#2a3f5f"
            },
            "error_y": {
             "color": "#2a3f5f"
            },
            "marker": {
             "line": {
              "color": "#E5ECF6",
              "width": 0.5
             },
             "pattern": {
              "fillmode": "overlay",
              "size": 10,
              "solidity": 0.2
             }
            },
            "type": "bar"
           }
          ],
          "scattergeo": [
           {
            "type": "scattergeo",
            "marker": {
             "colorbar": {
              "outlinewidth": 0,
              "ticks": ""
             }
            }
           }
          ],
          "scatterpolar": [
           {
            "type": "scatterpolar",
            "marker": {
             "colorbar": {
              "outlinewidth": 0,
              "ticks": ""
             }
            }
           }
          ],
          "histogram": [
           {
            "marker": {
             "pattern": {
              "fillmode": "overlay",
              "size": 10,
              "solidity": 0.2
             }
            },
            "type": "histogram"
           }
          ],
          "scattergl": [
           {
            "type": "scattergl",
            "marker": {
             "colorbar": {
              "outlinewidth": 0,
              "ticks": ""
             }
            }
           }
          ],
          "scatter3d": [
           {
            "type": "scatter3d",
            "line": {
             "colorbar": {
              "outlinewidth": 0,
              "ticks": ""
             }
            },
            "marker": {
             "colorbar": {
              "outlinewidth": 0,
              "ticks": ""
             }
            }
           }
          ],
          "scattermapbox": [
           {
            "type": "scattermapbox",
            "marker": {
             "colorbar": {
              "outlinewidth": 0,
              "ticks": ""
             }
            }
           }
          ],
          "scatterternary": [
           {
            "type": "scatterternary",
            "marker": {
             "colorbar": {
              "outlinewidth": 0,
              "ticks": ""
             }
            }
           }
          ],
          "scattercarpet": [
           {
            "type": "scattercarpet",
            "marker": {
             "colorbar": {
              "outlinewidth": 0,
              "ticks": ""
             }
            }
           }
          ],
          "carpet": [
           {
            "aaxis": {
             "endlinecolor": "#2a3f5f",
             "gridcolor": "white",
             "linecolor": "white",
             "minorgridcolor": "white",
             "startlinecolor": "#2a3f5f"
            },
            "baxis": {
             "endlinecolor": "#2a3f5f",
             "gridcolor": "white",
             "linecolor": "white",
             "minorgridcolor": "white",
             "startlinecolor": "#2a3f5f"
            },
            "type": "carpet"
           }
          ],
          "table": [
           {
            "cells": {
             "fill": {
              "color": "#EBF0F8"
             },
             "line": {
              "color": "white"
             }
            },
            "header": {
             "fill": {
              "color": "#C8D4E3"
             },
             "line": {
              "color": "white"
             }
            },
            "type": "table"
           }
          ],
          "barpolar": [
           {
            "marker": {
             "line": {
              "color": "#E5ECF6",
              "width": 0.5
             },
             "pattern": {
              "fillmode": "overlay",
              "size": 10,
              "solidity": 0.2
             }
            },
            "type": "barpolar"
           }
          ],
          "pie": [
           {
            "automargin": true,
            "type": "pie"
           }
          ]
         },
         "layout": {
          "autotypenumbers": "strict",
          "colorway": [
           "#636efa",
           "#EF553B",
           "#00cc96",
           "#ab63fa",
           "#FFA15A",
           "#19d3f3",
           "#FF6692",
           "#B6E880",
           "#FF97FF",
           "#FECB52"
          ],
          "font": {
           "color": "#2a3f5f"
          },
          "hovermode": "closest",
          "hoverlabel": {
           "align": "left"
          },
          "paper_bgcolor": "white",
          "plot_bgcolor": "#E5ECF6",
          "polar": {
           "bgcolor": "#E5ECF6",
           "angularaxis": {
            "gridcolor": "white",
            "linecolor": "white",
            "ticks": ""
           },
           "radialaxis": {
            "gridcolor": "white",
            "linecolor": "white",
            "ticks": ""
           }
          },
          "ternary": {
           "bgcolor": "#E5ECF6",
           "aaxis": {
            "gridcolor": "white",
            "linecolor": "white",
            "ticks": ""
           },
           "baxis": {
            "gridcolor": "white",
            "linecolor": "white",
            "ticks": ""
           },
           "caxis": {
            "gridcolor": "white",
            "linecolor": "white",
            "ticks": ""
           }
          },
          "coloraxis": {
           "colorbar": {
            "outlinewidth": 0,
            "ticks": ""
           }
          },
          "colorscale": {
           "sequential": [
            [
             0,
             "#0d0887"
            ],
            [
             0.1111111111111111,
             "#46039f"
            ],
            [
             0.2222222222222222,
             "#7201a8"
            ],
            [
             0.3333333333333333,
             "#9c179e"
            ],
            [
             0.4444444444444444,
             "#bd3786"
            ],
            [
             0.5555555555555556,
             "#d8576b"
            ],
            [
             0.6666666666666666,
             "#ed7953"
            ],
            [
             0.7777777777777778,
             "#fb9f3a"
            ],
            [
             0.8888888888888888,
             "#fdca26"
            ],
            [
             1,
             "#f0f921"
            ]
           ],
           "sequentialminus": [
            [
             0,
             "#0d0887"
            ],
            [
             0.1111111111111111,
             "#46039f"
            ],
            [
             0.2222222222222222,
             "#7201a8"
            ],
            [
             0.3333333333333333,
             "#9c179e"
            ],
            [
             0.4444444444444444,
             "#bd3786"
            ],
            [
             0.5555555555555556,
             "#d8576b"
            ],
            [
             0.6666666666666666,
             "#ed7953"
            ],
            [
             0.7777777777777778,
             "#fb9f3a"
            ],
            [
             0.8888888888888888,
             "#fdca26"
            ],
            [
             1,
             "#f0f921"
            ]
           ],
           "diverging": [
            [
             0,
             "#8e0152"
            ],
            [
             0.1,
             "#c51b7d"
            ],
            [
             0.2,
             "#de77ae"
            ],
            [
             0.3,
             "#f1b6da"
            ],
            [
             0.4,
             "#fde0ef"
            ],
            [
             0.5,
             "#f7f7f7"
            ],
            [
             0.6,
             "#e6f5d0"
            ],
            [
             0.7,
             "#b8e186"
            ],
            [
             0.8,
             "#7fbc41"
            ],
            [
             0.9,
             "#4d9221"
            ],
            [
             1,
             "#276419"
            ]
           ]
          },
          "xaxis": {
           "gridcolor": "white",
           "linecolor": "white",
           "ticks": "",
           "title": {
            "standoff": 15
           },
           "zerolinecolor": "white",
           "automargin": true,
           "zerolinewidth": 2
          },
          "yaxis": {
           "gridcolor": "white",
           "linecolor": "white",
           "ticks": "",
           "title": {
            "standoff": 15
           },
           "zerolinecolor": "white",
           "automargin": true,
           "zerolinewidth": 2
          },
          "scene": {
           "xaxis": {
            "backgroundcolor": "#E5ECF6",
            "gridcolor": "white",
            "linecolor": "white",
            "showbackground": true,
            "ticks": "",
            "zerolinecolor": "white",
            "gridwidth": 2
           },
           "yaxis": {
            "backgroundcolor": "#E5ECF6",
            "gridcolor": "white",
            "linecolor": "white",
            "showbackground": true,
            "ticks": "",
            "zerolinecolor": "white",
            "gridwidth": 2
           },
           "zaxis": {
            "backgroundcolor": "#E5ECF6",
            "gridcolor": "white",
            "linecolor": "white",
            "showbackground": true,
            "ticks": "",
            "zerolinecolor": "white",
            "gridwidth": 2
           }
          },
          "shapedefaults": {
           "line": {
            "color": "#2a3f5f"
           }
          },
          "annotationdefaults": {
           "arrowcolor": "#2a3f5f",
           "arrowhead": 0,
           "arrowwidth": 1
          },
          "geo": {
           "bgcolor": "white",
           "landcolor": "#E5ECF6",
           "subunitcolor": "white",
           "showland": true,
           "showlakes": true,
           "lakecolor": "white"
          },
          "title": {
           "x": 0.05
          },
          "mapbox": {
           "style": "light"
          }
         }
        },
        "title": {
         "font": {
          "size": 20,
          "family": "Droid Serif",
          "color": "black"
         },
         "text": "<b>Movie and TV Show Netlix production</b><br><sup>United States, India and United Kingdom on the top three for Netflix content production.</sup>"
        },
        "font": {
         "size": 12,
         "family": "Droid Serif",
         "color": "black"
        },
        "autosize": false,
        "width": 800,
        "height": 528
       },
       "config": {
        "plotlyServerURL": "https://plot.ly"
       }
      }
     },
     "metadata": {}
    }
   ],
   "metadata": {}
  },
  {
   "cell_type": "markdown",
   "source": [
    "### Viz3"
   ],
   "metadata": {}
  },
  {
   "cell_type": "code",
   "execution_count": 17,
   "source": [
    "# get the countries\n",
    "new_df = df[['type', 'country', 'listed_in']]\n",
    "new_df['country'] = new_df['country'].apply(lambda x: x.split(\",\")[0])\n",
    "new_df['listed_in'] = new_df['listed_in'].apply(lambda x: x.split(\",\")[0])\n",
    "new_df['country'] = new_df['country'].apply(check_state)\n",
    "new_df.dropna(inplace=True)\n"
   ],
   "outputs": [
    {
     "output_type": "stream",
     "name": "stderr",
     "text": [
      "/var/folders/k7/4r6y5q6904j1f009bpqwhy380000gn/T/ipykernel_7252/2639312558.py:3: SettingWithCopyWarning:\n",
      "\n",
      "\n",
      "A value is trying to be set on a copy of a slice from a DataFrame.\n",
      "Try using .loc[row_indexer,col_indexer] = value instead\n",
      "\n",
      "See the caveats in the documentation: https://pandas.pydata.org/pandas-docs/stable/user_guide/indexing.html#returning-a-view-versus-a-copy\n",
      "\n",
      "/var/folders/k7/4r6y5q6904j1f009bpqwhy380000gn/T/ipykernel_7252/2639312558.py:4: SettingWithCopyWarning:\n",
      "\n",
      "\n",
      "A value is trying to be set on a copy of a slice from a DataFrame.\n",
      "Try using .loc[row_indexer,col_indexer] = value instead\n",
      "\n",
      "See the caveats in the documentation: https://pandas.pydata.org/pandas-docs/stable/user_guide/indexing.html#returning-a-view-versus-a-copy\n",
      "\n",
      "/var/folders/k7/4r6y5q6904j1f009bpqwhy380000gn/T/ipykernel_7252/2639312558.py:5: SettingWithCopyWarning:\n",
      "\n",
      "\n",
      "A value is trying to be set on a copy of a slice from a DataFrame.\n",
      "Try using .loc[row_indexer,col_indexer] = value instead\n",
      "\n",
      "See the caveats in the documentation: https://pandas.pydata.org/pandas-docs/stable/user_guide/indexing.html#returning-a-view-versus-a-copy\n",
      "\n",
      "/usr/local/lib/python3.9/site-packages/pandas/util/_decorators.py:311: SettingWithCopyWarning:\n",
      "\n",
      "\n",
      "A value is trying to be set on a copy of a slice from a DataFrame\n",
      "\n",
      "See the caveats in the documentation: https://pandas.pydata.org/pandas-docs/stable/user_guide/indexing.html#returning-a-view-versus-a-copy\n",
      "\n"
     ]
    }
   ],
   "metadata": {}
  },
  {
   "cell_type": "code",
   "execution_count": 18,
   "source": [
    "new_df"
   ],
   "outputs": [
    {
     "output_type": "execute_result",
     "data": {
      "text/html": [
       "<div>\n",
       "<style scoped>\n",
       "    .dataframe tbody tr th:only-of-type {\n",
       "        vertical-align: middle;\n",
       "    }\n",
       "\n",
       "    .dataframe tbody tr th {\n",
       "        vertical-align: top;\n",
       "    }\n",
       "\n",
       "    .dataframe thead th {\n",
       "        text-align: right;\n",
       "    }\n",
       "</style>\n",
       "<table border=\"1\" class=\"dataframe\">\n",
       "  <thead>\n",
       "    <tr style=\"text-align: right;\">\n",
       "      <th></th>\n",
       "      <th>type</th>\n",
       "      <th>country</th>\n",
       "      <th>listed_in</th>\n",
       "    </tr>\n",
       "  </thead>\n",
       "  <tbody>\n",
       "    <tr>\n",
       "      <th>0</th>\n",
       "      <td>Movie</td>\n",
       "      <td>United States</td>\n",
       "      <td>Documentaries</td>\n",
       "    </tr>\n",
       "    <tr>\n",
       "      <th>1</th>\n",
       "      <td>TV Show</td>\n",
       "      <td>South Africa</td>\n",
       "      <td>International TV Shows</td>\n",
       "    </tr>\n",
       "    <tr>\n",
       "      <th>2</th>\n",
       "      <td>TV Show</td>\n",
       "      <td>United States</td>\n",
       "      <td>Crime TV Shows</td>\n",
       "    </tr>\n",
       "    <tr>\n",
       "      <th>3</th>\n",
       "      <td>TV Show</td>\n",
       "      <td>United States</td>\n",
       "      <td>Docuseries</td>\n",
       "    </tr>\n",
       "    <tr>\n",
       "      <th>4</th>\n",
       "      <td>TV Show</td>\n",
       "      <td>India</td>\n",
       "      <td>International TV Shows</td>\n",
       "    </tr>\n",
       "    <tr>\n",
       "      <th>...</th>\n",
       "      <td>...</td>\n",
       "      <td>...</td>\n",
       "      <td>...</td>\n",
       "    </tr>\n",
       "    <tr>\n",
       "      <th>8802</th>\n",
       "      <td>Movie</td>\n",
       "      <td>United States</td>\n",
       "      <td>Cult Movies</td>\n",
       "    </tr>\n",
       "    <tr>\n",
       "      <th>8803</th>\n",
       "      <td>TV Show</td>\n",
       "      <td>United States</td>\n",
       "      <td>Kids' TV</td>\n",
       "    </tr>\n",
       "    <tr>\n",
       "      <th>8804</th>\n",
       "      <td>Movie</td>\n",
       "      <td>United States</td>\n",
       "      <td>Comedies</td>\n",
       "    </tr>\n",
       "    <tr>\n",
       "      <th>8805</th>\n",
       "      <td>Movie</td>\n",
       "      <td>United States</td>\n",
       "      <td>Children &amp; Family Movies</td>\n",
       "    </tr>\n",
       "    <tr>\n",
       "      <th>8806</th>\n",
       "      <td>Movie</td>\n",
       "      <td>India</td>\n",
       "      <td>Dramas</td>\n",
       "    </tr>\n",
       "  </tbody>\n",
       "</table>\n",
       "<p>8788 rows × 3 columns</p>\n",
       "</div>"
      ],
      "text/plain": [
       "         type        country                 listed_in\n",
       "0       Movie  United States             Documentaries\n",
       "1     TV Show   South Africa    International TV Shows\n",
       "2     TV Show  United States            Crime TV Shows\n",
       "3     TV Show  United States                Docuseries\n",
       "4     TV Show          India    International TV Shows\n",
       "...       ...            ...                       ...\n",
       "8802    Movie  United States               Cult Movies\n",
       "8803  TV Show  United States                  Kids' TV\n",
       "8804    Movie  United States                  Comedies\n",
       "8805    Movie  United States  Children & Family Movies\n",
       "8806    Movie          India                    Dramas\n",
       "\n",
       "[8788 rows x 3 columns]"
      ]
     },
     "metadata": {},
     "execution_count": 18
    }
   ],
   "metadata": {}
  },
  {
   "cell_type": "code",
   "execution_count": 19,
   "source": [
    "df = pd.read_csv('netflix_titles.csv')\n",
    "df['country'] = df['country'].fillna(df['country'].mode()[0])\n",
    "df.dropna(inplace=True)\n",
    "df.drop_duplicates(inplace=True)\n",
    "\n",
    "# Generate the dataset\n",
    "df['country'] = df['country'].apply(lambda x: x.split(\",\")[0])\n",
    "df['listed_in'] = df['listed_in'].apply(lambda x: x.split(\",\")[0])\n",
    "df['genre'] = df['listed_in']\n",
    "\n",
    "df[\"genre\"] = df[\"genre\"].apply(\n",
    "    lambda x:  x.replace('TV Shows', '').replace(' TV Shows', '').replace(' TV Shows ', '').replace('TV Shows ', '').replace(' TV', '').replace(' TV ', '').replace('TV ', ''))\n",
    "df[\"genre\"] = df[\"genre\"].apply(\n",
    "    lambda x:  x.replace(' Movies', '').replace(\n",
    "        ' Movies ', '').replace('Movies ', '').replace('Movies', '').replace(' Series', '').replace(\n",
    "        ' Series ', '').replace('Series ', ''))\n",
    "df[\"genre\"] = df[\"genre\"].apply(lambda x:  x.replace(' ', ''))\n",
    "\n",
    "\n",
    "new_df = df[['genre', 'country']].groupby(['genre', 'country']\n",
    "                                 ).size().reset_index(name=\"count\")\n",
    "\n",
    "new_df = new_df[new_df['genre'] != '']\n",
    "new_df = new_df[new_df['country'] != '']\n",
    "top_country = new_df_top.sort_values(['count'], ascending=False)[\n",
    "    'country'].unique().tolist()[:9]\n",
    "new_df = new_df[new_df['country'].isin(top_country)].sort_values([\n",
    "    'count'], ascending=False)\n"
   ],
   "outputs": [],
   "metadata": {}
  },
  {
   "cell_type": "code",
   "execution_count": 104,
   "source": [
    "fig, axes = plt.subplots(figsize=(15, 8), nrows=3, ncols=3)\n",
    "axes = axes.ravel()\n",
    "\n",
    "for i, country in enumerate(top_country):\n",
    "\n",
    "    data = new_df[new_df['country'] == country][:8]\n",
    "    data.sort_values('count', inplace=True)\n",
    "\n",
    "    # for the colors\n",
    "    colors = []\n",
    "    alpha = []\n",
    "    maxims = data['count'].values[data['count'].values.argsort()[-3:][::-1]]\n",
    "    for value in data['count']:  # keys are the names of the boys\n",
    "        if value in maxims:\n",
    "            colors.append('#b20710')\n",
    "        else:\n",
    "            colors.append('#5C5C5C')\n",
    "\n",
    "    ticks_label = 100*(data['count'].values/sum(data['count'].values))\n",
    "\n",
    "    axes[i].barh(y=data['genre'], width=ticks_label,\n",
    "                 color=colors, alpha=1)\n",
    "    axes[i].set_title(\"{}\".format(country), fontfamily='serif',\n",
    "                      fontsize=11, fontweight='bold')\n",
    "    axes[i].set_yticklabels(labels=data['genre'],\n",
    "                            fontfamily='serif', fontsize=11)\n",
    "\n",
    "    for s in ['top', 'left', 'right']:\n",
    "        axes[i].spines[s].set_visible(False)\n",
    "\n",
    "    axes[i].grid(which='major', axis='x', linestyle='--')\n",
    "\n",
    "    count = 0\n",
    "    for p in axes[i].patches:\n",
    "        width = p.get_width()\n",
    "        height = p.get_height()\n",
    "        x, y = p.get_xy()\n",
    "        my_lab = ticks_label[count]/100\n",
    "        count += 1\n",
    "        axes[i].annotate(f'{my_lab:.0%}', (x + width + 1,\n",
    "                         y + height - 0.65), ha='left', fontfamily='serif')\n",
    "\n",
    "\n",
    "\n",
    "fig.text(0.06, 0.93, 'Most produced Netfilx genres per countries', fontsize=18, fontweight='bold', fontfamily='serif')\n",
    "fig.text(0.061, 0.89, 'Qui ci va il sottotitolo', fontsize=14,fontfamily='serif')\n",
    "fig.text(0.6, -0.1, 'Data Source: Kaggle Dataset https://www.kaggle.com/datasets/shivamb/netflix-shows',\n",
    "         fontsize=10, fontfamily='serif', style='italic')\n",
    "plt.subplots_adjust(left=0.1,\n",
    "                    bottom=0.0,\n",
    "                    right=1,\n",
    "                    top=0.81,\n",
    "                    wspace=0.6,\n",
    "                    hspace=0.8)\n",
    "\n",
    "plt.savefig(\"hey.pdf\", bbox_inches='tight')\n"
   ],
   "outputs": [
    {
     "output_type": "stream",
     "name": "stderr",
     "text": [
      "/var/folders/k7/4r6y5q6904j1f009bpqwhy380000gn/T/ipykernel_7252/1825122989.py:25: UserWarning:\n",
      "\n",
      "FixedFormatter should only be used together with FixedLocator\n",
      "\n",
      "/var/folders/k7/4r6y5q6904j1f009bpqwhy380000gn/T/ipykernel_7252/1825122989.py:25: UserWarning:\n",
      "\n",
      "FixedFormatter should only be used together with FixedLocator\n",
      "\n",
      "/var/folders/k7/4r6y5q6904j1f009bpqwhy380000gn/T/ipykernel_7252/1825122989.py:25: UserWarning:\n",
      "\n",
      "FixedFormatter should only be used together with FixedLocator\n",
      "\n",
      "/var/folders/k7/4r6y5q6904j1f009bpqwhy380000gn/T/ipykernel_7252/1825122989.py:25: UserWarning:\n",
      "\n",
      "FixedFormatter should only be used together with FixedLocator\n",
      "\n",
      "/var/folders/k7/4r6y5q6904j1f009bpqwhy380000gn/T/ipykernel_7252/1825122989.py:25: UserWarning:\n",
      "\n",
      "FixedFormatter should only be used together with FixedLocator\n",
      "\n",
      "/var/folders/k7/4r6y5q6904j1f009bpqwhy380000gn/T/ipykernel_7252/1825122989.py:25: UserWarning:\n",
      "\n",
      "FixedFormatter should only be used together with FixedLocator\n",
      "\n",
      "/var/folders/k7/4r6y5q6904j1f009bpqwhy380000gn/T/ipykernel_7252/1825122989.py:25: UserWarning:\n",
      "\n",
      "FixedFormatter should only be used together with FixedLocator\n",
      "\n",
      "/var/folders/k7/4r6y5q6904j1f009bpqwhy380000gn/T/ipykernel_7252/1825122989.py:25: UserWarning:\n",
      "\n",
      "FixedFormatter should only be used together with FixedLocator\n",
      "\n",
      "/var/folders/k7/4r6y5q6904j1f009bpqwhy380000gn/T/ipykernel_7252/1825122989.py:25: UserWarning:\n",
      "\n",
      "FixedFormatter should only be used together with FixedLocator\n",
      "\n"
     ]
    },
    {
     "output_type": "display_data",
     "data": {
      "image/png": "[encoded data removed]",
      "text/plain": [
       "<Figure size 1080x576 with 9 Axes>"
      ]
     },
     "metadata": {
      "needs_background": "light"
     }
    }
   ],
   "metadata": {}
  },
  {
   "cell_type": "code",
   "execution_count": null,
   "source": [],
   "outputs": [],
   "metadata": {}
  }
 ],
 "metadata": {
  "interpreter": {
   "hash": "aee8b7b246df8f9039afb4144a1f6fd8d2ca17a180786b69acc140d282b71a49"
  },
  "kernelspec": {
   "name": "python3",
   "display_name": "Python 3.9.0 64-bit"
  },
  "language_info": {
   "codemirror_mode": {
    "name": "ipython",
    "version": 3
   },
   "file_extension": ".py",
   "mimetype": "text/x-python",
   "name": "python",
   "nbconvert_exporter": "python",
   "pygments_lexer": "ipython3",
   "version": "3.9.0"
  }
 },
 "nbformat": 4,
 "nbformat_minor": 5
}