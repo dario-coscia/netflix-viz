{
 "cells": [
  {
   "cell_type": "markdown",
   "id": "0b349ec3",
   "metadata": {},
   "source": [
    "# Netflix: Exploratory Data Analysis "
   ]
  },
  {
   "cell_type": "markdown",
   "id": "afa3dd7c",
   "metadata": {},
   "source": [
    "In this notebook we perform some exploratory data analysis to answer Netflix related questions. Netflix is one of the leading streaming platforms in the world, with a diverse catalog encompassing movies and series for different audiences. Data visualization will be highly used to give insights of the data. The dataset is available on [Kaggle](https://www.kaggle.com/datasets/shivamb/netflix-shows)"
   ]
  },
  {
   "cell_type": "markdown",
   "id": "f662e602",
   "metadata": {},
   "source": [
    "## Dataset Cleaning\n",
    "\n",
    "We first import some useful modules for the datavisualization and analysis"
   ]
  },
  {
   "cell_type": "code",
   "execution_count": 3,
   "id": "083bd07c",
   "metadata": {},
   "outputs": [],
   "source": [
    "import pandas as pd               # data cleaning and analysis\n",
    "import matplotlib.pyplot as plt   # visualization\n",
    "import seaborn as sns             # visualization\n",
    "import numpy as np\n",
    "import plotly.express as px\n"
   ]
  },
  {
   "cell_type": "markdown",
   "id": "fc783657",
   "metadata": {},
   "source": [
    "Let's start by getting some information of the dataset"
   ]
  },
  {
   "cell_type": "code",
   "execution_count": 5,
   "id": "10b98537",
   "metadata": {},
   "outputs": [
    {
     "name": "stdout",
     "output_type": "stream",
     "text": [
      "<class 'pandas.core.frame.DataFrame'>\n",
      "RangeIndex: 8807 entries, 0 to 8806\n",
      "Data columns (total 12 columns):\n",
      " #   Column        Non-Null Count  Dtype \n",
      "---  ------        --------------  ----- \n",
      " 0   show_id       8807 non-null   object\n",
      " 1   type          8807 non-null   object\n",
      " 2   title         8807 non-null   object\n",
      " 3   director      6173 non-null   object\n",
      " 4   cast          7982 non-null   object\n",
      " 5   country       7976 non-null   object\n",
      " 6   date_added    8797 non-null   object\n",
      " 7   release_year  8807 non-null   int64 \n",
      " 8   rating        8803 non-null   object\n",
      " 9   duration      8804 non-null   object\n",
      " 10  listed_in     8807 non-null   object\n",
      " 11  description   8807 non-null   object\n",
      "dtypes: int64(1), object(11)\n",
      "memory usage: 825.8+ KB\n"
     ]
    }
   ],
   "source": [
    "df = pd.read_csv('netflix_titles.csv')  # reading the csv file\n",
    "df.info()                               # getting info of the dataset"
   ]
  },
  {
   "cell_type": "markdown",
   "id": "5364a2f3",
   "metadata": {},
   "source": [
    "As we can see there are some missing data from the dataset, e.g. `director` or `cast`. Let's get an idea of the percentage of missing data. "
   ]
  },
  {
   "cell_type": "code",
   "execution_count": 6,
   "id": "69bd2ab7",
   "metadata": {},
   "outputs": [
    {
     "data": {
      "text/html": [
       "<div>\n",
       "<style scoped>\n",
       "    .dataframe tbody tr th:only-of-type {\n",
       "        vertical-align: middle;\n",
       "    }\n",
       "\n",
       "    .dataframe tbody tr th {\n",
       "        vertical-align: top;\n",
       "    }\n",
       "\n",
       "    .dataframe thead th {\n",
       "        text-align: right;\n",
       "    }\n",
       "</style>\n",
       "<table border=\"1\" class=\"dataframe\">\n",
       "  <thead>\n",
       "    <tr style=\"text-align: right;\">\n",
       "      <th></th>\n",
       "      <th>percentage missing data</th>\n",
       "    </tr>\n",
       "  </thead>\n",
       "  <tbody>\n",
       "    <tr>\n",
       "      <th>show_id</th>\n",
       "      <td>0.00</td>\n",
       "    </tr>\n",
       "    <tr>\n",
       "      <th>type</th>\n",
       "      <td>0.00</td>\n",
       "    </tr>\n",
       "    <tr>\n",
       "      <th>title</th>\n",
       "      <td>0.00</td>\n",
       "    </tr>\n",
       "    <tr>\n",
       "      <th>director</th>\n",
       "      <td>29.91</td>\n",
       "    </tr>\n",
       "    <tr>\n",
       "      <th>cast</th>\n",
       "      <td>9.37</td>\n",
       "    </tr>\n",
       "    <tr>\n",
       "      <th>country</th>\n",
       "      <td>9.44</td>\n",
       "    </tr>\n",
       "    <tr>\n",
       "      <th>date_added</th>\n",
       "      <td>0.11</td>\n",
       "    </tr>\n",
       "    <tr>\n",
       "      <th>release_year</th>\n",
       "      <td>0.00</td>\n",
       "    </tr>\n",
       "    <tr>\n",
       "      <th>rating</th>\n",
       "      <td>0.05</td>\n",
       "    </tr>\n",
       "    <tr>\n",
       "      <th>duration</th>\n",
       "      <td>0.03</td>\n",
       "    </tr>\n",
       "    <tr>\n",
       "      <th>listed_in</th>\n",
       "      <td>0.00</td>\n",
       "    </tr>\n",
       "    <tr>\n",
       "      <th>description</th>\n",
       "      <td>0.00</td>\n",
       "    </tr>\n",
       "  </tbody>\n",
       "</table>\n",
       "</div>"
      ],
      "text/plain": [
       "              percentage missing data\n",
       "show_id                          0.00\n",
       "type                             0.00\n",
       "title                            0.00\n",
       "director                        29.91\n",
       "cast                             9.37\n",
       "country                          9.44\n",
       "date_added                       0.11\n",
       "release_year                     0.00\n",
       "rating                           0.05\n",
       "duration                         0.03\n",
       "listed_in                        0.00\n",
       "description                      0.00"
      ]
     },
     "execution_count": 6,
     "metadata": {},
     "output_type": "execute_result"
    }
   ],
   "source": [
    "100*(df.isna().sum()/len(df)).to_frame(name=\"percentage missing data\").round(4)\n"
   ]
  },
  {
   "cell_type": "markdown",
   "id": "4a729456",
   "metadata": {},
   "source": [
    "Most of the data missing concerns the attribute `director` (roughly 30%), `cast` and `country` (roughly 9.5%). We will not use `director` (or `cast`) information during our analysis, hence we can leave it as it is, and do not erase the empty rows. This is done to preserve the integrity of the dataset, and to not miss any valuable information. We will use `country` information, but we will keep (for same reason as above) empty rows.\n",
    "\n",
    "Notice that, before proceding in the visualization, the date should be changed. In particular, we want to add some columns to know when a movie is added (month, year)."
   ]
  },
  {
   "cell_type": "code",
   "execution_count": 7,
   "id": "a3482600",
   "metadata": {},
   "outputs": [],
   "source": [
    "df[\"date_added\"] = pd.to_datetime(df['date_added'])\n",
    "df['month_added'] = df['date_added'].dt.month\n",
    "df['month_name_added'] = df['date_added'].dt.month_name()\n",
    "df['year_added'] = df['date_added'].dt.year\n"
   ]
  },
  {
   "cell_type": "markdown",
   "id": "13134f2d",
   "metadata": {},
   "source": [
    "Great, now also date is okay! Let's start with some visualizations."
   ]
  },
  {
   "cell_type": "markdown",
   "id": "0fc46315",
   "metadata": {},
   "source": [
    "## Visualizations\n",
    "\n",
    "We will striclty focus on answering three questions:\n",
    "\n",
    "* Question 1\n",
    "* Question 2\n",
    "* Question 3\n",
    "\n",
    "Notice that where possible, we will use Netflix colorscheme palette and font type. Nice tip from this [website](https://www.kaggle.com/code/joshuaswords/netflix-data-visualization)."
   ]
  },
  {
   "cell_type": "code",
   "execution_count": 8,
   "id": "03f8acd8",
   "metadata": {},
   "outputs": [
    {
     "data": {
      "image/png": "[encoded data removed]",
      "text/plain": [
       "<Figure size 400x100 with 1 Axes>"
      ]
     },
     "metadata": {},
     "output_type": "display_data"
    }
   ],
   "source": [
    "sns.palplot(['#221f1f', '#b20710', '#e50914', '#f5f5f1'])  # palette\n",
    "\n",
    "plt.title(\"Netflix brand palette \", loc='left',\n",
    "          fontfamily='serif', fontsize=18, y=1.2)\n",
    "plt.show()\n",
    " "
   ]
  },
  {
   "cell_type": "markdown",
   "id": "24807b53",
   "metadata": {},
   "source": [
    "### Questions\n",
    "\n",
    "1. Which thems are more appealing for netflix users? And in what format? (bar plot)\n",
    "2. What are the most themes for each country production? (grafico con connessioni)\n",
    "3. small multiples paesi con time"
   ]
  },
  {
   "cell_type": "markdown",
   "id": "a555da4d",
   "metadata": {},
   "source": [
    "### Viz"
   ]
  },
  {
   "cell_type": "code",
   "execution_count": 9,
   "id": "c34346e2",
   "metadata": {},
   "outputs": [
    {
     "name": "stderr",
     "output_type": "stream",
     "text": [
      "/var/folders/25/y8b04v6n71sb72wqqdqbkr300000gn/T/ipykernel_1444/158690912.py:53: SettingWithCopyWarning: \n",
      "A value is trying to be set on a copy of a slice from a DataFrame\n",
      "\n",
      "See the caveats in the documentation: https://pandas.pydata.org/pandas-docs/stable/user_guide/indexing.html#returning-a-view-versus-a-copy\n",
      "  genres_df[\"movies\"][tidx] = movies\n",
      "/var/folders/25/y8b04v6n71sb72wqqdqbkr300000gn/T/ipykernel_1444/158690912.py:54: SettingWithCopyWarning: \n",
      "A value is trying to be set on a copy of a slice from a DataFrame\n",
      "\n",
      "See the caveats in the documentation: https://pandas.pydata.org/pandas-docs/stable/user_guide/indexing.html#returning-a-view-versus-a-copy\n",
      "  genres_df[\"tv\"][tidx] = tv\n"
     ]
    },
    {
     "data": {
      "text/html": [
       "<div>\n",
       "<style scoped>\n",
       "    .dataframe tbody tr th:only-of-type {\n",
       "        vertical-align: middle;\n",
       "    }\n",
       "\n",
       "    .dataframe tbody tr th {\n",
       "        vertical-align: top;\n",
       "    }\n",
       "\n",
       "    .dataframe thead th {\n",
       "        text-align: right;\n",
       "    }\n",
       "</style>\n",
       "<table border=\"1\" class=\"dataframe\">\n",
       "  <thead>\n",
       "    <tr style=\"text-align: right;\">\n",
       "      <th></th>\n",
       "      <th>genres</th>\n",
       "    </tr>\n",
       "  </thead>\n",
       "  <tbody>\n",
       "    <tr>\n",
       "      <th>0</th>\n",
       "      <td>Crime</td>\n",
       "    </tr>\n",
       "    <tr>\n",
       "      <th>1</th>\n",
       "      <td>Classic</td>\n",
       "    </tr>\n",
       "    <tr>\n",
       "      <th>2</th>\n",
       "      <td>Romantic</td>\n",
       "    </tr>\n",
       "    <tr>\n",
       "      <th>3</th>\n",
       "      <td>AnimeFeatures</td>\n",
       "    </tr>\n",
       "    <tr>\n",
       "      <th>4</th>\n",
       "      <td>Romantic</td>\n",
       "    </tr>\n",
       "    <tr>\n",
       "      <th>5</th>\n",
       "      <td></td>\n",
       "    </tr>\n",
       "    <tr>\n",
       "      <th>6</th>\n",
       "      <td></td>\n",
       "    </tr>\n",
       "    <tr>\n",
       "      <th>7</th>\n",
       "      <td>Sci-Fi&amp;Fantasy</td>\n",
       "    </tr>\n",
       "    <tr>\n",
       "      <th>8</th>\n",
       "      <td>Dramas</td>\n",
       "    </tr>\n",
       "    <tr>\n",
       "      <th>9</th>\n",
       "      <td>Science&amp;Nature</td>\n",
       "    </tr>\n",
       "    <tr>\n",
       "      <th>10</th>\n",
       "      <td>Teen</td>\n",
       "    </tr>\n",
       "    <tr>\n",
       "      <th>11</th>\n",
       "      <td>Sports</td>\n",
       "    </tr>\n",
       "    <tr>\n",
       "      <th>12</th>\n",
       "      <td>Comedies</td>\n",
       "    </tr>\n",
       "    <tr>\n",
       "      <th>13</th>\n",
       "      <td>LGBTQ</td>\n",
       "    </tr>\n",
       "    <tr>\n",
       "      <th>14</th>\n",
       "      <td>Cult</td>\n",
       "    </tr>\n",
       "    <tr>\n",
       "      <th>15</th>\n",
       "      <td>International</td>\n",
       "    </tr>\n",
       "    <tr>\n",
       "      <th>16</th>\n",
       "      <td>Horror</td>\n",
       "    </tr>\n",
       "    <tr>\n",
       "      <th>17</th>\n",
       "      <td>Classic&amp;Cult</td>\n",
       "    </tr>\n",
       "    <tr>\n",
       "      <th>18</th>\n",
       "      <td>Children&amp;Family</td>\n",
       "    </tr>\n",
       "    <tr>\n",
       "      <th>19</th>\n",
       "      <td>Independent</td>\n",
       "    </tr>\n",
       "    <tr>\n",
       "      <th>20</th>\n",
       "      <td>Thrillers</td>\n",
       "    </tr>\n",
       "    <tr>\n",
       "      <th>21</th>\n",
       "      <td>Stand-UpComedy&amp;TalkShows</td>\n",
       "    </tr>\n",
       "    <tr>\n",
       "      <th>22</th>\n",
       "      <td>Spanish-Language</td>\n",
       "    </tr>\n",
       "    <tr>\n",
       "      <th>23</th>\n",
       "      <td>Music&amp;Musicals</td>\n",
       "    </tr>\n",
       "    <tr>\n",
       "      <th>24</th>\n",
       "      <td>Kids'</td>\n",
       "    </tr>\n",
       "    <tr>\n",
       "      <th>25</th>\n",
       "      <td>Reality</td>\n",
       "    </tr>\n",
       "    <tr>\n",
       "      <th>26</th>\n",
       "      <td>Horror</td>\n",
       "    </tr>\n",
       "    <tr>\n",
       "      <th>27</th>\n",
       "      <td>Faith&amp;Spirituality</td>\n",
       "    </tr>\n",
       "    <tr>\n",
       "      <th>28</th>\n",
       "      <td>Sci-Fi&amp;Fantasy</td>\n",
       "    </tr>\n",
       "    <tr>\n",
       "      <th>29</th>\n",
       "      <td>Anime</td>\n",
       "    </tr>\n",
       "    <tr>\n",
       "      <th>30</th>\n",
       "      <td>Stand-UpComedy</td>\n",
       "    </tr>\n",
       "    <tr>\n",
       "      <th>31</th>\n",
       "      <td>Docuseries</td>\n",
       "    </tr>\n",
       "    <tr>\n",
       "      <th>32</th>\n",
       "      <td>International</td>\n",
       "    </tr>\n",
       "    <tr>\n",
       "      <th>33</th>\n",
       "      <td>Action&amp;Adventure</td>\n",
       "    </tr>\n",
       "    <tr>\n",
       "      <th>34</th>\n",
       "      <td>Thrillers</td>\n",
       "    </tr>\n",
       "    <tr>\n",
       "      <th>35</th>\n",
       "      <td>Korean</td>\n",
       "    </tr>\n",
       "    <tr>\n",
       "      <th>36</th>\n",
       "      <td>Action&amp;Adventure</td>\n",
       "    </tr>\n",
       "    <tr>\n",
       "      <th>37</th>\n",
       "      <td>Mysteries</td>\n",
       "    </tr>\n",
       "    <tr>\n",
       "      <th>38</th>\n",
       "      <td>Dramas</td>\n",
       "    </tr>\n",
       "    <tr>\n",
       "      <th>39</th>\n",
       "      <td>Comedies</td>\n",
       "    </tr>\n",
       "    <tr>\n",
       "      <th>40</th>\n",
       "      <td>Documentaries</td>\n",
       "    </tr>\n",
       "    <tr>\n",
       "      <th>41</th>\n",
       "      <td>British</td>\n",
       "    </tr>\n",
       "  </tbody>\n",
       "</table>\n",
       "</div>"
      ],
      "text/plain": [
       "                      genres\n",
       "0                      Crime\n",
       "1                    Classic\n",
       "2                   Romantic\n",
       "3              AnimeFeatures\n",
       "4                   Romantic\n",
       "5                           \n",
       "6                           \n",
       "7             Sci-Fi&Fantasy\n",
       "8                     Dramas\n",
       "9             Science&Nature\n",
       "10                      Teen\n",
       "11                    Sports\n",
       "12                  Comedies\n",
       "13                     LGBTQ\n",
       "14                      Cult\n",
       "15             International\n",
       "16                    Horror\n",
       "17              Classic&Cult\n",
       "18           Children&Family\n",
       "19               Independent\n",
       "20                 Thrillers\n",
       "21  Stand-UpComedy&TalkShows\n",
       "22          Spanish-Language\n",
       "23            Music&Musicals\n",
       "24                     Kids'\n",
       "25                   Reality\n",
       "26                    Horror\n",
       "27        Faith&Spirituality\n",
       "28            Sci-Fi&Fantasy\n",
       "29                     Anime\n",
       "30            Stand-UpComedy\n",
       "31                Docuseries\n",
       "32             International\n",
       "33          Action&Adventure\n",
       "34                 Thrillers\n",
       "35                    Korean\n",
       "36          Action&Adventure\n",
       "37                 Mysteries\n",
       "38                    Dramas\n",
       "39                  Comedies\n",
       "40             Documentaries\n",
       "41                   British"
      ]
     },
     "execution_count": 9,
     "metadata": {},
     "output_type": "execute_result"
    }
   ],
   "source": [
    "# Generate the dataset\n",
    "\n",
    "df['genre'] = df['listed_in'].apply(\n",
    "    lambda x:  x.replace(' ,', ',').replace(', ', ',').split(','))\n",
    "Types = []\n",
    "for i in df['genre']:\n",
    "    Types += i\n",
    "    \n",
    "unique_genres = list(set(Types))\n",
    "# create new df\n",
    "tmp = pd.DataFrame(unique_genres)\n",
    "tmp.columns = [\"genres\"]\n",
    "tmp[\"genres\"] = tmp[\"genres\"].apply(\n",
    "    lambda x:  x.replace('TV Shows', '').replace(' TV Shows', '').replace(' TV Shows ', '').replace('TV Shows ', '').replace(' TV', '').replace(' TV ', '').replace('TV ', ''))\n",
    "tmp[\"genres\"] = tmp[\"genres\"].apply(\n",
    "    lambda x:  x.replace(' Movies', '').replace(\n",
    "        ' Movies ', '').replace('Movies ', '').replace('Movies', '').replace(' Series', '').replace(\n",
    "        ' Series ', '').replace('Series ', ''))\n",
    "tmp[\"genres\"] = tmp[\"genres\"].apply(lambda x:  x.replace(' ', ''))\n",
    "unique_genres = tmp.dropna()[\"genres\"].unique()[1:]\n",
    "genres_df = pd.DataFrame(unique_genres)\n",
    "genres_df.columns = [\"genres\"]\n",
    "empty = np.zeros(len(genres_df))\n",
    "genres_df[\"movies\"] = empty\n",
    "genres_df[\"tv\"] = empty\n",
    "df['genre_split'] = df['listed_in'].apply(\n",
    "    lambda x:  x.replace(' ,', ',').replace(', ', ',').replace(' ', ',').split(','))\n",
    "\n",
    "\n",
    "def contains_word(s, w):\n",
    "    a = (' ' + w) in (' ' + s)\n",
    "    return a\n",
    "\n",
    "\n",
    "for tidx, type_ in enumerate(genres_df['genres']):\n",
    "    movies = 0\n",
    "    tv = 0\n",
    "    for idx, i in enumerate(df['genre_split']):\n",
    "        for word in i:\n",
    "            if word == 'Docuseries':\n",
    "                word = 'Documentaries'\n",
    "            if word == \"Kids'\":\n",
    "                word = 'Children&Family'\n",
    "            if word == 'Thrillers':\n",
    "                word = 'Crime'\n",
    "\n",
    "            if contains_word(type_, word):\n",
    "                if df[\"type\"][idx] == 'Movie':\n",
    "                    movies += 1\n",
    "                else:\n",
    "                    tv += 1\n",
    "\n",
    "    genres_df[\"movies\"][tidx] = movies\n",
    "    genres_df[\"tv\"][tidx] = tv\n",
    "\n",
    "genres_df['tot_count'] = genres_df['movies']+genres_df['tv']\n",
    "genres_df['percentage_movies'] = (\n",
    "    genres_df['movies'] / genres_df['tot_count']) \n",
    "genres_df['percentage_tv'] = (genres_df['tv'] / genres_df['tot_count'])\n",
    "genres_df = genres_df.sort_values('tot_count', ascending=False).dropna()\n",
    "tmp\n",
    "\n"
   ]
  },
  {
   "cell_type": "code",
   "execution_count": null,
   "id": "4a7b5531",
   "metadata": {},
   "outputs": [],
   "source": []
  },
  {
   "cell_type": "code",
   "execution_count": 10,
   "id": "84a1a87c",
   "metadata": {},
   "outputs": [],
   "source": [
    "df = genres_df[:8]\n",
    "data_q2q3_ratio = pd.DataFrame(df['genres'])\n",
    "data_q2q3_ratio.columns = [\"type\"]\n",
    "data_q2q3_ratio[\"Movie\"] = df['percentage_movies']\n",
    "data_q2q3_ratio[\"TV Show\"] = df['percentage_tv']\n"
   ]
  },
  {
   "cell_type": "code",
   "execution_count": 11,
   "id": "ac4dd975",
   "metadata": {},
   "outputs": [],
   "source": [
    "data_q2q3_ratio = data_q2q3_ratio.sort_values(\"Movie\", ascending=True)\n",
    "data_q2q3_ratio = data_q2q3_ratio.set_index('type')\n"
   ]
  },
  {
   "cell_type": "code",
   "execution_count": 12,
   "id": "d89e3596",
   "metadata": {},
   "outputs": [
    {
     "name": "stderr",
     "output_type": "stream",
     "text": [
      "/var/folders/25/y8b04v6n71sb72wqqdqbkr300000gn/T/ipykernel_1444/2959863481.py:11: UserWarning: FixedFormatter should only be used together with FixedLocator\n",
      "  ax.set_yticklabels(data_q2q3_ratio.index, fontfamily='serif', fontsize=11)\n"
     ]
    },
    {
     "data": {
      "image/png": "[encoded data removed]",
      "text/plain": [
       "<Figure size 1500x800 with 1 Axes>"
      ]
     },
     "metadata": {},
     "output_type": "display_data"
    }
   ],
   "source": [
    "fig, ax = plt.subplots(1,1,figsize=(15, 8),)\n",
    "\n",
    "ax.barh(data_q2q3_ratio.index, data_q2q3_ratio['Movie'], \n",
    "        color='#b20710', alpha=0.8, label='Movie')\n",
    "ax.barh(data_q2q3_ratio.index, data_q2q3_ratio['TV Show'], left=data_q2q3_ratio['Movie'], \n",
    "        color='#221f1f', alpha=0.8, label='TV Show')\n",
    "\n",
    "\n",
    "ax.set_xlim(0, 1)\n",
    "ax.set_xticks([])\n",
    "ax.set_yticklabels(data_q2q3_ratio.index, fontfamily='serif', fontsize=11)\n",
    "\n",
    "# male percentage\n",
    "for i in data_q2q3_ratio.index:\n",
    "    ax.annotate(f\"{data_q2q3_ratio['Movie'][i]*100:.3}%\", \n",
    "                   xy=(data_q2q3_ratio['Movie'][i]/2, i),\n",
    "                   va = 'center', ha='center',fontsize=12, fontweight='light', fontfamily='serif',\n",
    "                   color='white')\n",
    "\n",
    "for i in data_q2q3_ratio.index:\n",
    "    ax.annotate(f\"{data_q2q3_ratio['TV Show'][i]*100:.3}%\", \n",
    "                   xy=(data_q2q3_ratio['Movie'][i]+data_q2q3_ratio['TV Show'][i]/2, i),\n",
    "                   va = 'center', ha='center',fontsize=12, fontweight='light', fontfamily='serif',\n",
    "                   color='white')\n",
    "    \n",
    "\n",
    "fig.text(0.13, 0.93, 'Top 8 genre for Movie & TV Show split', fontsize=18, fontweight='bold', fontfamily='serif')   \n",
    "fig.text(0.131, 0.89, 'Percent Stacked Bar Chart', fontsize=14,fontfamily='serif')   \n",
    "\n",
    "for s in ['top', 'left', 'right', 'bottom']:\n",
    "    ax.spines[s].set_visible(False)\n",
    "    \n",
    "#ax.legend(loc='lower center', ncol=3, bbox_to_anchor=(0.5, -0.06))\n",
    "\n",
    "fig.text(0.75,0.9,\"Movie\", fontweight=\"bold\", fontfamily='serif', fontsize=15, color='#b20710')\n",
    "fig.text(0.81,0.9,\"|\", fontweight=\"bold\", fontfamily='serif', fontsize=15, color='black')\n",
    "fig.text(0.82, 0.9, \"TV Show\", fontweight=\"bold\",\n",
    "         fontfamily='serif', fontsize=15, color='#221f1f')\n",
    "\n",
    "\n",
    "\n",
    "\n",
    "import matplotlib.lines as lines\n",
    "l1 = lines.Line2D([1, 1], [0, 1], transform=fig.transFigure, figure=fig,color='white',lw=0.2)\n",
    "fig.lines.extend([l1])\n",
    "\n",
    "\n",
    "\n",
    "\n",
    "ax.tick_params(axis='both', which='major', labelsize=12)\n",
    "ax.tick_params(axis=u'both', which=u'both',length=0)\n",
    "\n",
    "\n",
    "plt.savefig(\"fig1.pdf\", dpi=400)"
   ]
  },
  {
   "cell_type": "code",
   "execution_count": 13,
   "id": "6775fbbf",
   "metadata": {},
   "outputs": [
    {
     "data": {
      "text/plain": [
       "Counter({'United States': 3690,\n",
       "         'South Africa': 62,\n",
       "         'India': 1046,\n",
       "         'Ghana': 5,\n",
       "         'Burkina Faso': 1,\n",
       "         'United Kingdom': 806,\n",
       "         'Germany': 226,\n",
       "         'Ethiopia': 1,\n",
       "         'Czech Republic': 22,\n",
       "         'Mexico': 169,\n",
       "         'Turkey': 113,\n",
       "         'Australia': 160,\n",
       "         'France': 393,\n",
       "         'Finland': 11,\n",
       "         'China': 162,\n",
       "         'Canada': 445,\n",
       "         'Japan': 318,\n",
       "         'Nigeria': 103,\n",
       "         'Spain': 232,\n",
       "         'Belgium': 90,\n",
       "         'South Korea': 231,\n",
       "         'Singapore': 41,\n",
       "         'Italy': 100,\n",
       "         'Romania': 14,\n",
       "         'Argentina': 91,\n",
       "         'Venezuela': 4,\n",
       "         'Hong Kong': 105,\n",
       "         'Russia': 27,\n",
       "         'Ireland': 46,\n",
       "         'Nepal': 2,\n",
       "         'New Zealand': 33,\n",
       "         'Brazil': 97,\n",
       "         'Greece': 11,\n",
       "         'Jordan': 9,\n",
       "         'Colombia': 52,\n",
       "         'Switzerland': 19,\n",
       "         'Israel': 30,\n",
       "         'Taiwan': 89,\n",
       "         'Bulgaria': 10,\n",
       "         'Algeria': 3,\n",
       "         'Poland': 41,\n",
       "         'Saudi Arabia': 13,\n",
       "         'Thailand': 70,\n",
       "         'Indonesia': 90,\n",
       "         'Egypt': 117,\n",
       "         'Denmark': 48,\n",
       "         'Kuwait': 8,\n",
       "         'Netherlands': 50,\n",
       "         'Malaysia': 26,\n",
       "         'Vietnam': 7,\n",
       "         'Hungary': 11,\n",
       "         'Sweden': 42,\n",
       "         'Lebanon': 31,\n",
       "         'Syria': 3,\n",
       "         'Philippines': 83,\n",
       "         'Iceland': 11,\n",
       "         'United Arab Emirates': 37,\n",
       "         'Norway': 30,\n",
       "         'Qatar': 10,\n",
       "         'Mauritius': 2,\n",
       "         'Austria': 12,\n",
       "         'Cameroon': 1,\n",
       "         'Palestine': 1,\n",
       "         'Uruguay': 14,\n",
       "         'Kenya': 6,\n",
       "         'Chile': 29,\n",
       "         'Luxembourg': 12,\n",
       "         'Cambodia': 6,\n",
       "         'Bangladesh': 4,\n",
       "         'Portugal': 6,\n",
       "         'Cayman Islands': 2,\n",
       "         'Senegal': 3,\n",
       "         'Serbia': 7,\n",
       "         'Malta': 3,\n",
       "         'Namibia': 2,\n",
       "         'Angola': 1,\n",
       "         'Peru': 10,\n",
       "         'Mozambique': 1,\n",
       "         'Belarus': 1,\n",
       "         'Zimbabwe': 3,\n",
       "         'Puerto Rico': 1,\n",
       "         'Pakistan': 24,\n",
       "         'Cyprus': 1,\n",
       "         'Guatemala': 2,\n",
       "         'Iraq': 2,\n",
       "         'Malawi': 1,\n",
       "         'Paraguay': 1,\n",
       "         'Croatia': 4,\n",
       "         'Iran': 4,\n",
       "         'West Germany': 5,\n",
       "         'Albania': 1,\n",
       "         'Georgia': 2,\n",
       "         'Soviet Union': 3,\n",
       "         'Morocco': 6,\n",
       "         'Slovakia': 1,\n",
       "         'Ukraine': 3,\n",
       "         'Bermuda': 1,\n",
       "         'Ecuador': 1,\n",
       "         'Armenia': 1,\n",
       "         'Mongolia': 1,\n",
       "         'Bahamas': 1,\n",
       "         'Sri Lanka': 1,\n",
       "         'Latvia': 1,\n",
       "         'Liechtenstein': 1,\n",
       "         'Cuba': 1,\n",
       "         'Nicaragua': 1,\n",
       "         'Slovenia': 3,\n",
       "         'Dominican Republic': 1,\n",
       "         'Samoa': 1,\n",
       "         'Azerbaijan': 1,\n",
       "         'Botswana': 1,\n",
       "         'Vatican City': 1,\n",
       "         'Jamaica': 1,\n",
       "         'Kazakhstan': 1,\n",
       "         'Lithuania': 1,\n",
       "         'Afghanistan': 1,\n",
       "         'Somalia': 1,\n",
       "         'Sudan': 1,\n",
       "         'Panama': 1,\n",
       "         'Uganda': 1,\n",
       "         'East Germany': 1,\n",
       "         'Montenegro': 1})"
      ]
     },
     "execution_count": 13,
     "metadata": {},
     "output_type": "execute_result"
    }
   ],
   "source": [
    "#10 paesi con più prodotti\n",
    "\n",
    "from collections import Counter\n",
    "df2 = pd.read_csv('netflix_titles.csv')  # reading the csv file\n",
    "df2=df2.dropna(subset=['country'])\n",
    "\n",
    "df2['temp'] = df2['country'].apply(\n",
    "    lambda x:  x.replace(' ,', ',').replace(', ', ',').replace(' , ', ',').split(','))\n",
    "Countries = []\n",
    "for i in df2['temp']:\n",
    "    Countries += i\n",
    "unique_countries = list(set(Countries))\n",
    "countries_df = pd.DataFrame(unique_countries)\n",
    "countries_df.columns = [\"countries\"]\n",
    "conta = [item[0] for item in Counter(Countries).most_common(10)]\n",
    "countries_df = pd.DataFrame(conta)\n",
    "countries_df.columns = [\"countries\"]\n",
    "Counter(Countries)"
   ]
  },
  {
   "cell_type": "code",
   "execution_count": 14,
   "id": "ca704bc8",
   "metadata": {},
   "outputs": [],
   "source": [
    "# tutti i generi\n",
    "df2['genre'] = df2['listed_in'].apply(\n",
    "    lambda x:  x.replace(' ,', ',').replace(', ', ',').split(','))\n",
    "Types = []\n",
    "for i in df2['genre']:\n",
    "    Types += i\n",
    "    \n",
    "unique_genres = list(set(Types))\n",
    "# create new df\n",
    "genres_df = pd.DataFrame(unique_genres)\n",
    "genres_df.columns = [\"genres\"]\n",
    "#genres_df\n",
    "a=list(countries_df[\"countries\"])\n",
    "b = list(genres_df[\"genres\"])"
   ]
  },
  {
   "cell_type": "code",
   "execution_count": 15,
   "id": "c213ce24",
   "metadata": {},
   "outputs": [
    {
     "data": {
      "text/html": [
       "<div>\n",
       "<style scoped>\n",
       "    .dataframe tbody tr th:only-of-type {\n",
       "        vertical-align: middle;\n",
       "    }\n",
       "\n",
       "    .dataframe tbody tr th {\n",
       "        vertical-align: top;\n",
       "    }\n",
       "\n",
       "    .dataframe thead th {\n",
       "        text-align: right;\n",
       "    }\n",
       "</style>\n",
       "<table border=\"1\" class=\"dataframe\">\n",
       "  <thead>\n",
       "    <tr style=\"text-align: right;\">\n",
       "      <th></th>\n",
       "      <th>United States</th>\n",
       "      <th>India</th>\n",
       "      <th>United Kingdom</th>\n",
       "      <th>Canada</th>\n",
       "      <th>France</th>\n",
       "      <th>Japan</th>\n",
       "      <th>Spain</th>\n",
       "      <th>South Korea</th>\n",
       "      <th>Germany</th>\n",
       "      <th>Mexico</th>\n",
       "    </tr>\n",
       "  </thead>\n",
       "  <tbody>\n",
       "    <tr>\n",
       "      <th>Crime TV Shows</th>\n",
       "      <td>145</td>\n",
       "      <td>9</td>\n",
       "      <td>48</td>\n",
       "      <td>15</td>\n",
       "      <td>23</td>\n",
       "      <td>16</td>\n",
       "      <td>27</td>\n",
       "      <td>24</td>\n",
       "      <td>15</td>\n",
       "      <td>32</td>\n",
       "    </tr>\n",
       "    <tr>\n",
       "      <th>Classic Movies</th>\n",
       "      <td>81</td>\n",
       "      <td>11</td>\n",
       "      <td>16</td>\n",
       "      <td>0</td>\n",
       "      <td>6</td>\n",
       "      <td>3</td>\n",
       "      <td>1</td>\n",
       "      <td>0</td>\n",
       "      <td>0</td>\n",
       "      <td>1</td>\n",
       "    </tr>\n",
       "    <tr>\n",
       "      <th>Romantic Movies</th>\n",
       "      <td>225</td>\n",
       "      <td>120</td>\n",
       "      <td>38</td>\n",
       "      <td>25</td>\n",
       "      <td>22</td>\n",
       "      <td>7</td>\n",
       "      <td>11</td>\n",
       "      <td>2</td>\n",
       "      <td>10</td>\n",
       "      <td>8</td>\n",
       "    </tr>\n",
       "    <tr>\n",
       "      <th>Anime Features</th>\n",
       "      <td>7</td>\n",
       "      <td>0</td>\n",
       "      <td>0</td>\n",
       "      <td>0</td>\n",
       "      <td>0</td>\n",
       "      <td>61</td>\n",
       "      <td>0</td>\n",
       "      <td>0</td>\n",
       "      <td>0</td>\n",
       "      <td>0</td>\n",
       "    </tr>\n",
       "    <tr>\n",
       "      <th>Romantic TV Shows</th>\n",
       "      <td>44</td>\n",
       "      <td>12</td>\n",
       "      <td>11</td>\n",
       "      <td>2</td>\n",
       "      <td>2</td>\n",
       "      <td>21</td>\n",
       "      <td>9</td>\n",
       "      <td>77</td>\n",
       "      <td>1</td>\n",
       "      <td>5</td>\n",
       "    </tr>\n",
       "    <tr>\n",
       "      <th>TV Shows</th>\n",
       "      <td>32</td>\n",
       "      <td>24</td>\n",
       "      <td>0</td>\n",
       "      <td>0</td>\n",
       "      <td>0</td>\n",
       "      <td>8</td>\n",
       "      <td>0</td>\n",
       "      <td>0</td>\n",
       "      <td>0</td>\n",
       "      <td>0</td>\n",
       "    </tr>\n",
       "    <tr>\n",
       "      <th>Movies</th>\n",
       "      <td>220</td>\n",
       "      <td>0</td>\n",
       "      <td>40</td>\n",
       "      <td>50</td>\n",
       "      <td>10</td>\n",
       "      <td>20</td>\n",
       "      <td>30</td>\n",
       "      <td>10</td>\n",
       "      <td>20</td>\n",
       "      <td>10</td>\n",
       "    </tr>\n",
       "    <tr>\n",
       "      <th>Sci-Fi &amp; Fantasy</th>\n",
       "      <td>362</td>\n",
       "      <td>24</td>\n",
       "      <td>70</td>\n",
       "      <td>56</td>\n",
       "      <td>20</td>\n",
       "      <td>18</td>\n",
       "      <td>22</td>\n",
       "      <td>10</td>\n",
       "      <td>26</td>\n",
       "      <td>12</td>\n",
       "    </tr>\n",
       "    <tr>\n",
       "      <th>TV Dramas</th>\n",
       "      <td>232</td>\n",
       "      <td>28</td>\n",
       "      <td>36</td>\n",
       "      <td>32</td>\n",
       "      <td>27</td>\n",
       "      <td>21</td>\n",
       "      <td>11</td>\n",
       "      <td>38</td>\n",
       "      <td>19</td>\n",
       "      <td>12</td>\n",
       "    </tr>\n",
       "    <tr>\n",
       "      <th>Teen TV Shows</th>\n",
       "      <td>33</td>\n",
       "      <td>1</td>\n",
       "      <td>0</td>\n",
       "      <td>2</td>\n",
       "      <td>0</td>\n",
       "      <td>14</td>\n",
       "      <td>1</td>\n",
       "      <td>0</td>\n",
       "      <td>0</td>\n",
       "      <td>0</td>\n",
       "    </tr>\n",
       "    <tr>\n",
       "      <th>Science &amp; Nature TV</th>\n",
       "      <td>49</td>\n",
       "      <td>0</td>\n",
       "      <td>27</td>\n",
       "      <td>4</td>\n",
       "      <td>1</td>\n",
       "      <td>0</td>\n",
       "      <td>1</td>\n",
       "      <td>0</td>\n",
       "      <td>3</td>\n",
       "      <td>0</td>\n",
       "    </tr>\n",
       "    <tr>\n",
       "      <th>Sports Movies</th>\n",
       "      <td>113</td>\n",
       "      <td>17</td>\n",
       "      <td>21</td>\n",
       "      <td>13</td>\n",
       "      <td>12</td>\n",
       "      <td>1</td>\n",
       "      <td>5</td>\n",
       "      <td>0</td>\n",
       "      <td>5</td>\n",
       "      <td>3</td>\n",
       "    </tr>\n",
       "    <tr>\n",
       "      <th>TV Comedies</th>\n",
       "      <td>258</td>\n",
       "      <td>26</td>\n",
       "      <td>44</td>\n",
       "      <td>30</td>\n",
       "      <td>24</td>\n",
       "      <td>10</td>\n",
       "      <td>5</td>\n",
       "      <td>19</td>\n",
       "      <td>5</td>\n",
       "      <td>4</td>\n",
       "    </tr>\n",
       "    <tr>\n",
       "      <th>LGBTQ Movies</th>\n",
       "      <td>63</td>\n",
       "      <td>2</td>\n",
       "      <td>7</td>\n",
       "      <td>6</td>\n",
       "      <td>1</td>\n",
       "      <td>1</td>\n",
       "      <td>4</td>\n",
       "      <td>1</td>\n",
       "      <td>1</td>\n",
       "      <td>1</td>\n",
       "    </tr>\n",
       "    <tr>\n",
       "      <th>Cult Movies</th>\n",
       "      <td>52</td>\n",
       "      <td>5</td>\n",
       "      <td>7</td>\n",
       "      <td>6</td>\n",
       "      <td>2</td>\n",
       "      <td>1</td>\n",
       "      <td>0</td>\n",
       "      <td>1</td>\n",
       "      <td>4</td>\n",
       "      <td>0</td>\n",
       "    </tr>\n",
       "    <tr>\n",
       "      <th>International Movies</th>\n",
       "      <td>166</td>\n",
       "      <td>864</td>\n",
       "      <td>170</td>\n",
       "      <td>60</td>\n",
       "      <td>207</td>\n",
       "      <td>72</td>\n",
       "      <td>140</td>\n",
       "      <td>44</td>\n",
       "      <td>94</td>\n",
       "      <td>70</td>\n",
       "    </tr>\n",
       "    <tr>\n",
       "      <th>Horror Movies</th>\n",
       "      <td>201</td>\n",
       "      <td>35</td>\n",
       "      <td>28</td>\n",
       "      <td>36</td>\n",
       "      <td>10</td>\n",
       "      <td>4</td>\n",
       "      <td>10</td>\n",
       "      <td>5</td>\n",
       "      <td>7</td>\n",
       "      <td>8</td>\n",
       "    </tr>\n",
       "    <tr>\n",
       "      <th>Classic &amp; Cult TV</th>\n",
       "      <td>17</td>\n",
       "      <td>0</td>\n",
       "      <td>7</td>\n",
       "      <td>4</td>\n",
       "      <td>0</td>\n",
       "      <td>0</td>\n",
       "      <td>0</td>\n",
       "      <td>0</td>\n",
       "      <td>0</td>\n",
       "      <td>2</td>\n",
       "    </tr>\n",
       "    <tr>\n",
       "      <th>Independent Movies</th>\n",
       "      <td>390</td>\n",
       "      <td>167</td>\n",
       "      <td>74</td>\n",
       "      <td>44</td>\n",
       "      <td>73</td>\n",
       "      <td>7</td>\n",
       "      <td>20</td>\n",
       "      <td>2</td>\n",
       "      <td>31</td>\n",
       "      <td>23</td>\n",
       "    </tr>\n",
       "    <tr>\n",
       "      <th>Children &amp; Family Movies</th>\n",
       "      <td>390</td>\n",
       "      <td>26</td>\n",
       "      <td>46</td>\n",
       "      <td>80</td>\n",
       "      <td>23</td>\n",
       "      <td>19</td>\n",
       "      <td>9</td>\n",
       "      <td>10</td>\n",
       "      <td>17</td>\n",
       "      <td>5</td>\n",
       "    </tr>\n",
       "    <tr>\n",
       "      <th>Thrillers</th>\n",
       "      <td>584</td>\n",
       "      <td>184</td>\n",
       "      <td>122</td>\n",
       "      <td>98</td>\n",
       "      <td>88</td>\n",
       "      <td>10</td>\n",
       "      <td>76</td>\n",
       "      <td>28</td>\n",
       "      <td>56</td>\n",
       "      <td>4</td>\n",
       "    </tr>\n",
       "    <tr>\n",
       "      <th>Stand-Up Comedy &amp; Talk Shows</th>\n",
       "      <td>33</td>\n",
       "      <td>3</td>\n",
       "      <td>1</td>\n",
       "      <td>0</td>\n",
       "      <td>1</td>\n",
       "      <td>1</td>\n",
       "      <td>0</td>\n",
       "      <td>4</td>\n",
       "      <td>1</td>\n",
       "      <td>1</td>\n",
       "    </tr>\n",
       "    <tr>\n",
       "      <th>Spanish-Language TV Shows</th>\n",
       "      <td>29</td>\n",
       "      <td>0</td>\n",
       "      <td>1</td>\n",
       "      <td>0</td>\n",
       "      <td>0</td>\n",
       "      <td>0</td>\n",
       "      <td>41</td>\n",
       "      <td>0</td>\n",
       "      <td>0</td>\n",
       "      <td>47</td>\n",
       "    </tr>\n",
       "    <tr>\n",
       "      <th>Music &amp; Musicals</th>\n",
       "      <td>147</td>\n",
       "      <td>96</td>\n",
       "      <td>36</td>\n",
       "      <td>14</td>\n",
       "      <td>8</td>\n",
       "      <td>6</td>\n",
       "      <td>6</td>\n",
       "      <td>1</td>\n",
       "      <td>8</td>\n",
       "      <td>3</td>\n",
       "    </tr>\n",
       "    <tr>\n",
       "      <th>Kids' TV</th>\n",
       "      <td>214</td>\n",
       "      <td>12</td>\n",
       "      <td>43</td>\n",
       "      <td>61</td>\n",
       "      <td>43</td>\n",
       "      <td>29</td>\n",
       "      <td>4</td>\n",
       "      <td>16</td>\n",
       "      <td>8</td>\n",
       "      <td>4</td>\n",
       "    </tr>\n",
       "    <tr>\n",
       "      <th>Reality TV</th>\n",
       "      <td>123</td>\n",
       "      <td>6</td>\n",
       "      <td>35</td>\n",
       "      <td>9</td>\n",
       "      <td>2</td>\n",
       "      <td>9</td>\n",
       "      <td>3</td>\n",
       "      <td>4</td>\n",
       "      <td>3</td>\n",
       "      <td>3</td>\n",
       "    </tr>\n",
       "    <tr>\n",
       "      <th>Faith &amp; Spirituality</th>\n",
       "      <td>42</td>\n",
       "      <td>4</td>\n",
       "      <td>5</td>\n",
       "      <td>3</td>\n",
       "      <td>3</td>\n",
       "      <td>0</td>\n",
       "      <td>3</td>\n",
       "      <td>0</td>\n",
       "      <td>1</td>\n",
       "      <td>1</td>\n",
       "    </tr>\n",
       "    <tr>\n",
       "      <th>TV Horror</th>\n",
       "      <td>37</td>\n",
       "      <td>7</td>\n",
       "      <td>2</td>\n",
       "      <td>8</td>\n",
       "      <td>3</td>\n",
       "      <td>5</td>\n",
       "      <td>0</td>\n",
       "      <td>3</td>\n",
       "      <td>0</td>\n",
       "      <td>0</td>\n",
       "    </tr>\n",
       "    <tr>\n",
       "      <th>TV Sci-Fi &amp; Fantasy</th>\n",
       "      <td>60</td>\n",
       "      <td>3</td>\n",
       "      <td>4</td>\n",
       "      <td>9</td>\n",
       "      <td>1</td>\n",
       "      <td>0</td>\n",
       "      <td>0</td>\n",
       "      <td>0</td>\n",
       "      <td>1</td>\n",
       "      <td>1</td>\n",
       "    </tr>\n",
       "    <tr>\n",
       "      <th>Anime Series</th>\n",
       "      <td>18</td>\n",
       "      <td>0</td>\n",
       "      <td>0</td>\n",
       "      <td>2</td>\n",
       "      <td>0</td>\n",
       "      <td>143</td>\n",
       "      <td>1</td>\n",
       "      <td>0</td>\n",
       "      <td>0</td>\n",
       "      <td>0</td>\n",
       "    </tr>\n",
       "    <tr>\n",
       "      <th>Stand-Up Comedy</th>\n",
       "      <td>432</td>\n",
       "      <td>12</td>\n",
       "      <td>42</td>\n",
       "      <td>4</td>\n",
       "      <td>10</td>\n",
       "      <td>0</td>\n",
       "      <td>2</td>\n",
       "      <td>4</td>\n",
       "      <td>10</td>\n",
       "      <td>36</td>\n",
       "    </tr>\n",
       "    <tr>\n",
       "      <th>Docuseries</th>\n",
       "      <td>192</td>\n",
       "      <td>9</td>\n",
       "      <td>89</td>\n",
       "      <td>11</td>\n",
       "      <td>7</td>\n",
       "      <td>2</td>\n",
       "      <td>9</td>\n",
       "      <td>0</td>\n",
       "      <td>8</td>\n",
       "      <td>3</td>\n",
       "    </tr>\n",
       "    <tr>\n",
       "      <th>International TV Shows</th>\n",
       "      <td>74</td>\n",
       "      <td>66</td>\n",
       "      <td>128</td>\n",
       "      <td>25</td>\n",
       "      <td>43</td>\n",
       "      <td>151</td>\n",
       "      <td>54</td>\n",
       "      <td>152</td>\n",
       "      <td>35</td>\n",
       "      <td>43</td>\n",
       "    </tr>\n",
       "    <tr>\n",
       "      <th>Action &amp; Adventure</th>\n",
       "      <td>808</td>\n",
       "      <td>274</td>\n",
       "      <td>168</td>\n",
       "      <td>88</td>\n",
       "      <td>74</td>\n",
       "      <td>114</td>\n",
       "      <td>20</td>\n",
       "      <td>34</td>\n",
       "      <td>66</td>\n",
       "      <td>18</td>\n",
       "    </tr>\n",
       "    <tr>\n",
       "      <th>Korean TV Shows</th>\n",
       "      <td>3</td>\n",
       "      <td>0</td>\n",
       "      <td>0</td>\n",
       "      <td>1</td>\n",
       "      <td>0</td>\n",
       "      <td>0</td>\n",
       "      <td>0</td>\n",
       "      <td>132</td>\n",
       "      <td>0</td>\n",
       "      <td>0</td>\n",
       "    </tr>\n",
       "    <tr>\n",
       "      <th>TV Thrillers</th>\n",
       "      <td>27</td>\n",
       "      <td>3</td>\n",
       "      <td>2</td>\n",
       "      <td>5</td>\n",
       "      <td>3</td>\n",
       "      <td>6</td>\n",
       "      <td>0</td>\n",
       "      <td>1</td>\n",
       "      <td>0</td>\n",
       "      <td>0</td>\n",
       "    </tr>\n",
       "    <tr>\n",
       "      <th>Dramas</th>\n",
       "      <td>1670</td>\n",
       "      <td>1324</td>\n",
       "      <td>394</td>\n",
       "      <td>164</td>\n",
       "      <td>334</td>\n",
       "      <td>46</td>\n",
       "      <td>152</td>\n",
       "      <td>52</td>\n",
       "      <td>160</td>\n",
       "      <td>88</td>\n",
       "    </tr>\n",
       "    <tr>\n",
       "      <th>TV Mysteries</th>\n",
       "      <td>51</td>\n",
       "      <td>2</td>\n",
       "      <td>2</td>\n",
       "      <td>9</td>\n",
       "      <td>2</td>\n",
       "      <td>4</td>\n",
       "      <td>0</td>\n",
       "      <td>3</td>\n",
       "      <td>2</td>\n",
       "      <td>0</td>\n",
       "    </tr>\n",
       "    <tr>\n",
       "      <th>TV Action &amp; Adventure</th>\n",
       "      <td>94</td>\n",
       "      <td>5</td>\n",
       "      <td>9</td>\n",
       "      <td>12</td>\n",
       "      <td>6</td>\n",
       "      <td>5</td>\n",
       "      <td>4</td>\n",
       "      <td>9</td>\n",
       "      <td>2</td>\n",
       "      <td>7</td>\n",
       "    </tr>\n",
       "    <tr>\n",
       "      <th>Comedies</th>\n",
       "      <td>1360</td>\n",
       "      <td>646</td>\n",
       "      <td>182</td>\n",
       "      <td>188</td>\n",
       "      <td>102</td>\n",
       "      <td>18</td>\n",
       "      <td>94</td>\n",
       "      <td>34</td>\n",
       "      <td>84</td>\n",
       "      <td>48</td>\n",
       "    </tr>\n",
       "    <tr>\n",
       "      <th>Documentaries</th>\n",
       "      <td>512</td>\n",
       "      <td>27</td>\n",
       "      <td>128</td>\n",
       "      <td>42</td>\n",
       "      <td>44</td>\n",
       "      <td>7</td>\n",
       "      <td>21</td>\n",
       "      <td>2</td>\n",
       "      <td>21</td>\n",
       "      <td>18</td>\n",
       "    </tr>\n",
       "    <tr>\n",
       "      <th>British TV Shows</th>\n",
       "      <td>24</td>\n",
       "      <td>3</td>\n",
       "      <td>225</td>\n",
       "      <td>3</td>\n",
       "      <td>2</td>\n",
       "      <td>1</td>\n",
       "      <td>5</td>\n",
       "      <td>0</td>\n",
       "      <td>6</td>\n",
       "      <td>0</td>\n",
       "    </tr>\n",
       "  </tbody>\n",
       "</table>\n",
       "</div>"
      ],
      "text/plain": [
       "                              United States  India  United Kingdom  Canada  \\\n",
       "Crime TV Shows                          145      9              48      15   \n",
       "Classic Movies                           81     11              16       0   \n",
       "Romantic Movies                         225    120              38      25   \n",
       "Anime Features                            7      0               0       0   \n",
       "Romantic TV Shows                        44     12              11       2   \n",
       "TV Shows                                 32     24               0       0   \n",
       "Movies                                  220      0              40      50   \n",
       "Sci-Fi & Fantasy                        362     24              70      56   \n",
       "TV Dramas                               232     28              36      32   \n",
       "Teen TV Shows                            33      1               0       2   \n",
       "Science & Nature TV                      49      0              27       4   \n",
       "Sports Movies                           113     17              21      13   \n",
       "TV Comedies                             258     26              44      30   \n",
       "LGBTQ Movies                             63      2               7       6   \n",
       "Cult Movies                              52      5               7       6   \n",
       "International Movies                    166    864             170      60   \n",
       "Horror Movies                           201     35              28      36   \n",
       "Classic & Cult TV                        17      0               7       4   \n",
       "Independent Movies                      390    167              74      44   \n",
       "Children & Family Movies                390     26              46      80   \n",
       "Thrillers                               584    184             122      98   \n",
       "Stand-Up Comedy & Talk Shows             33      3               1       0   \n",
       "Spanish-Language TV Shows                29      0               1       0   \n",
       "Music & Musicals                        147     96              36      14   \n",
       "Kids' TV                                214     12              43      61   \n",
       "Reality TV                              123      6              35       9   \n",
       "Faith & Spirituality                     42      4               5       3   \n",
       "TV Horror                                37      7               2       8   \n",
       "TV Sci-Fi & Fantasy                      60      3               4       9   \n",
       "Anime Series                             18      0               0       2   \n",
       "Stand-Up Comedy                         432     12              42       4   \n",
       "Docuseries                              192      9              89      11   \n",
       "International TV Shows                   74     66             128      25   \n",
       "Action & Adventure                      808    274             168      88   \n",
       "Korean TV Shows                           3      0               0       1   \n",
       "TV Thrillers                             27      3               2       5   \n",
       "Dramas                                 1670   1324             394     164   \n",
       "TV Mysteries                             51      2               2       9   \n",
       "TV Action & Adventure                    94      5               9      12   \n",
       "Comedies                               1360    646             182     188   \n",
       "Documentaries                           512     27             128      42   \n",
       "British TV Shows                         24      3             225       3   \n",
       "\n",
       "                              France  Japan  Spain  South Korea  Germany  \\\n",
       "Crime TV Shows                    23     16     27           24       15   \n",
       "Classic Movies                     6      3      1            0        0   \n",
       "Romantic Movies                   22      7     11            2       10   \n",
       "Anime Features                     0     61      0            0        0   \n",
       "Romantic TV Shows                  2     21      9           77        1   \n",
       "TV Shows                           0      8      0            0        0   \n",
       "Movies                            10     20     30           10       20   \n",
       "Sci-Fi & Fantasy                  20     18     22           10       26   \n",
       "TV Dramas                         27     21     11           38       19   \n",
       "Teen TV Shows                      0     14      1            0        0   \n",
       "Science & Nature TV                1      0      1            0        3   \n",
       "Sports Movies                     12      1      5            0        5   \n",
       "TV Comedies                       24     10      5           19        5   \n",
       "LGBTQ Movies                       1      1      4            1        1   \n",
       "Cult Movies                        2      1      0            1        4   \n",
       "International Movies             207     72    140           44       94   \n",
       "Horror Movies                     10      4     10            5        7   \n",
       "Classic & Cult TV                  0      0      0            0        0   \n",
       "Independent Movies                73      7     20            2       31   \n",
       "Children & Family Movies          23     19      9           10       17   \n",
       "Thrillers                         88     10     76           28       56   \n",
       "Stand-Up Comedy & Talk Shows       1      1      0            4        1   \n",
       "Spanish-Language TV Shows          0      0     41            0        0   \n",
       "Music & Musicals                   8      6      6            1        8   \n",
       "Kids' TV                          43     29      4           16        8   \n",
       "Reality TV                         2      9      3            4        3   \n",
       "Faith & Spirituality               3      0      3            0        1   \n",
       "TV Horror                          3      5      0            3        0   \n",
       "TV Sci-Fi & Fantasy                1      0      0            0        1   \n",
       "Anime Series                       0    143      1            0        0   \n",
       "Stand-Up Comedy                   10      0      2            4       10   \n",
       "Docuseries                         7      2      9            0        8   \n",
       "International TV Shows            43    151     54          152       35   \n",
       "Action & Adventure                74    114     20           34       66   \n",
       "Korean TV Shows                    0      0      0          132        0   \n",
       "TV Thrillers                       3      6      0            1        0   \n",
       "Dramas                           334     46    152           52      160   \n",
       "TV Mysteries                       2      4      0            3        2   \n",
       "TV Action & Adventure              6      5      4            9        2   \n",
       "Comedies                         102     18     94           34       84   \n",
       "Documentaries                     44      7     21            2       21   \n",
       "British TV Shows                   2      1      5            0        6   \n",
       "\n",
       "                              Mexico  \n",
       "Crime TV Shows                    32  \n",
       "Classic Movies                     1  \n",
       "Romantic Movies                    8  \n",
       "Anime Features                     0  \n",
       "Romantic TV Shows                  5  \n",
       "TV Shows                           0  \n",
       "Movies                            10  \n",
       "Sci-Fi & Fantasy                  12  \n",
       "TV Dramas                         12  \n",
       "Teen TV Shows                      0  \n",
       "Science & Nature TV                0  \n",
       "Sports Movies                      3  \n",
       "TV Comedies                        4  \n",
       "LGBTQ Movies                       1  \n",
       "Cult Movies                        0  \n",
       "International Movies              70  \n",
       "Horror Movies                      8  \n",
       "Classic & Cult TV                  2  \n",
       "Independent Movies                23  \n",
       "Children & Family Movies           5  \n",
       "Thrillers                          4  \n",
       "Stand-Up Comedy & Talk Shows       1  \n",
       "Spanish-Language TV Shows         47  \n",
       "Music & Musicals                   3  \n",
       "Kids' TV                           4  \n",
       "Reality TV                         3  \n",
       "Faith & Spirituality               1  \n",
       "TV Horror                          0  \n",
       "TV Sci-Fi & Fantasy                1  \n",
       "Anime Series                       0  \n",
       "Stand-Up Comedy                   36  \n",
       "Docuseries                         3  \n",
       "International TV Shows            43  \n",
       "Action & Adventure                18  \n",
       "Korean TV Shows                    0  \n",
       "TV Thrillers                       0  \n",
       "Dramas                            88  \n",
       "TV Mysteries                       0  \n",
       "TV Action & Adventure              7  \n",
       "Comedies                          48  \n",
       "Documentaries                     18  \n",
       "British TV Shows                   0  "
      ]
     },
     "execution_count": 15,
     "metadata": {},
     "output_type": "execute_result"
    }
   ],
   "source": [
    "tabella= pd.DataFrame(0, columns=range(10),index=range(42))\n",
    "tabella.columns =a\n",
    "tabella.index = b\n",
    "#tabella.loc['Comedies']['United States']+=1\n",
    "#tabella\n",
    "\n",
    "\n",
    "def contains_word(s, w):\n",
    "    a = (' ' + w) in (' ' + s)\n",
    "    return a\n",
    "\n",
    "tempo=[]\n",
    "i2=[]\n",
    "for tidx, type_ in enumerate(countries_df['countries']):\n",
    "    for idx, i in enumerate(df2['temp']):\n",
    "        for word in i:\n",
    "            if contains_word(type_,word):\n",
    "                for tidx2, type2_ in enumerate(genres_df['genres']):\n",
    "                    tempo= df2.iloc[idx]\n",
    "                    i2 = tempo['genre']\n",
    "                    for word2 in i2:\n",
    "                        if contains_word(type2_,word2):\n",
    "                              tabella.loc[word2][word]+=1\n",
    "tabella       "
   ]
  },
  {
   "cell_type": "code",
   "execution_count": 16,
   "id": "99f095ba",
   "metadata": {},
   "outputs": [
    {
     "data": {
      "text/html": [
       "<div>\n",
       "<style scoped>\n",
       "    .dataframe tbody tr th:only-of-type {\n",
       "        vertical-align: middle;\n",
       "    }\n",
       "\n",
       "    .dataframe tbody tr th {\n",
       "        vertical-align: top;\n",
       "    }\n",
       "\n",
       "    .dataframe thead th {\n",
       "        text-align: right;\n",
       "    }\n",
       "</style>\n",
       "<table border=\"1\" class=\"dataframe\">\n",
       "  <thead>\n",
       "    <tr style=\"text-align: right;\">\n",
       "      <th></th>\n",
       "      <th>United States</th>\n",
       "      <th>India</th>\n",
       "      <th>United Kingdom</th>\n",
       "      <th>Canada</th>\n",
       "      <th>France</th>\n",
       "      <th>Japan</th>\n",
       "      <th>Spain</th>\n",
       "      <th>South Korea</th>\n",
       "      <th>Germany</th>\n",
       "      <th>Mexico</th>\n",
       "    </tr>\n",
       "  </thead>\n",
       "  <tbody>\n",
       "    <tr>\n",
       "      <th>Romantic TV Shows</th>\n",
       "      <td>0</td>\n",
       "      <td>0</td>\n",
       "      <td>0</td>\n",
       "      <td>0</td>\n",
       "      <td>0</td>\n",
       "      <td>0</td>\n",
       "      <td>0</td>\n",
       "      <td>77</td>\n",
       "      <td>0</td>\n",
       "      <td>0</td>\n",
       "    </tr>\n",
       "    <tr>\n",
       "      <th>International Movies</th>\n",
       "      <td>0</td>\n",
       "      <td>864</td>\n",
       "      <td>0</td>\n",
       "      <td>0</td>\n",
       "      <td>207</td>\n",
       "      <td>0</td>\n",
       "      <td>140</td>\n",
       "      <td>0</td>\n",
       "      <td>94</td>\n",
       "      <td>70</td>\n",
       "    </tr>\n",
       "    <tr>\n",
       "      <th>Thrillers</th>\n",
       "      <td>0</td>\n",
       "      <td>0</td>\n",
       "      <td>0</td>\n",
       "      <td>98</td>\n",
       "      <td>0</td>\n",
       "      <td>0</td>\n",
       "      <td>0</td>\n",
       "      <td>0</td>\n",
       "      <td>0</td>\n",
       "      <td>0</td>\n",
       "    </tr>\n",
       "    <tr>\n",
       "      <th>Anime Series</th>\n",
       "      <td>0</td>\n",
       "      <td>0</td>\n",
       "      <td>0</td>\n",
       "      <td>0</td>\n",
       "      <td>0</td>\n",
       "      <td>143</td>\n",
       "      <td>0</td>\n",
       "      <td>0</td>\n",
       "      <td>0</td>\n",
       "      <td>0</td>\n",
       "    </tr>\n",
       "    <tr>\n",
       "      <th>International TV Shows</th>\n",
       "      <td>0</td>\n",
       "      <td>0</td>\n",
       "      <td>0</td>\n",
       "      <td>0</td>\n",
       "      <td>0</td>\n",
       "      <td>151</td>\n",
       "      <td>0</td>\n",
       "      <td>152</td>\n",
       "      <td>0</td>\n",
       "      <td>0</td>\n",
       "    </tr>\n",
       "    <tr>\n",
       "      <th>Action &amp; Adventure</th>\n",
       "      <td>808</td>\n",
       "      <td>0</td>\n",
       "      <td>0</td>\n",
       "      <td>0</td>\n",
       "      <td>0</td>\n",
       "      <td>114</td>\n",
       "      <td>0</td>\n",
       "      <td>0</td>\n",
       "      <td>0</td>\n",
       "      <td>0</td>\n",
       "    </tr>\n",
       "    <tr>\n",
       "      <th>Korean TV Shows</th>\n",
       "      <td>0</td>\n",
       "      <td>0</td>\n",
       "      <td>0</td>\n",
       "      <td>0</td>\n",
       "      <td>0</td>\n",
       "      <td>0</td>\n",
       "      <td>0</td>\n",
       "      <td>132</td>\n",
       "      <td>0</td>\n",
       "      <td>0</td>\n",
       "    </tr>\n",
       "    <tr>\n",
       "      <th>Dramas</th>\n",
       "      <td>1670</td>\n",
       "      <td>1324</td>\n",
       "      <td>394</td>\n",
       "      <td>164</td>\n",
       "      <td>334</td>\n",
       "      <td>0</td>\n",
       "      <td>152</td>\n",
       "      <td>0</td>\n",
       "      <td>160</td>\n",
       "      <td>88</td>\n",
       "    </tr>\n",
       "    <tr>\n",
       "      <th>Comedies</th>\n",
       "      <td>1360</td>\n",
       "      <td>646</td>\n",
       "      <td>182</td>\n",
       "      <td>188</td>\n",
       "      <td>102</td>\n",
       "      <td>0</td>\n",
       "      <td>94</td>\n",
       "      <td>0</td>\n",
       "      <td>84</td>\n",
       "      <td>48</td>\n",
       "    </tr>\n",
       "    <tr>\n",
       "      <th>British TV Shows</th>\n",
       "      <td>0</td>\n",
       "      <td>0</td>\n",
       "      <td>225</td>\n",
       "      <td>0</td>\n",
       "      <td>0</td>\n",
       "      <td>0</td>\n",
       "      <td>0</td>\n",
       "      <td>0</td>\n",
       "      <td>0</td>\n",
       "      <td>0</td>\n",
       "    </tr>\n",
       "  </tbody>\n",
       "</table>\n",
       "</div>"
      ],
      "text/plain": [
       "                        United States  India  United Kingdom  Canada  France  \\\n",
       "Romantic TV Shows                   0      0               0       0       0   \n",
       "International Movies                0    864               0       0     207   \n",
       "Thrillers                           0      0               0      98       0   \n",
       "Anime Series                        0      0               0       0       0   \n",
       "International TV Shows              0      0               0       0       0   \n",
       "Action & Adventure                808      0               0       0       0   \n",
       "Korean TV Shows                     0      0               0       0       0   \n",
       "Dramas                           1670   1324             394     164     334   \n",
       "Comedies                         1360    646             182     188     102   \n",
       "British TV Shows                    0      0             225       0       0   \n",
       "\n",
       "                        Japan  Spain  South Korea  Germany  Mexico  \n",
       "Romantic TV Shows           0      0           77        0       0  \n",
       "International Movies        0    140            0       94      70  \n",
       "Thrillers                   0      0            0        0       0  \n",
       "Anime Series              143      0            0        0       0  \n",
       "International TV Shows    151      0          152        0       0  \n",
       "Action & Adventure        114      0            0        0       0  \n",
       "Korean TV Shows             0      0          132        0       0  \n",
       "Dramas                      0    152            0      160      88  \n",
       "Comedies                    0     94            0       84      48  \n",
       "British TV Shows            0      0            0        0       0  "
      ]
     },
     "execution_count": 16,
     "metadata": {},
     "output_type": "execute_result"
    }
   ],
   "source": [
    "tabella_minimal= pd.DataFrame(0, columns=range(10),index=range(42))\n",
    "tabella_minimal.columns =a\n",
    "tabella_minimal.index = b\n",
    "#tabella.loc['Comedies']['United States']+=1\n",
    "#tabella\n",
    "bu=[]\n",
    "for i in a:\n",
    "    bu=tabella[i].nlargest(3)\n",
    "    for j in b:\n",
    "        for k in bu:\n",
    "            if tabella.loc[j][i] == k:\n",
    "                tabella_minimal.loc[j][i]=k\n",
    "tabella_minimal=tabella_minimal.loc[(tabella_minimal!=0).any(axis=1)]\n",
    "tabella_minimal\n"
   ]
  },
  {
   "cell_type": "code",
   "execution_count": 28,
   "id": "1f3511ce",
   "metadata": {},
   "outputs": [
    {
     "data": {
      "application/vnd.plotly.v1+json": {
       "config": {
        "plotlyServerURL": "https://plot.ly"
       },
       "data": [
        {
         "domain": {
          "x": [
           0,
           1
          ],
          "y": [
           0,
           1
          ]
         },
         "name": "",
         "type": "parcoords"
        }
       ],
       "layout": {
        "legend": {
         "tracegroupgap": 0
        },
        "margin": {
         "t": 60
        },
        "template": {
         "data": {
          "bar": [
           {
            "error_x": {
             "color": "#2a3f5f"
            },
            "error_y": {
             "color": "#2a3f5f"
            },
            "marker": {
             "line": {
              "color": "#E5ECF6",
              "width": 0.5
             },
             "pattern": {
              "fillmode": "overlay",
              "size": 10,
              "solidity": 0.2
             }
            },
            "type": "bar"
           }
          ],
          "barpolar": [
           {
            "marker": {
             "line": {
              "color": "#E5ECF6",
              "width": 0.5
             },
             "pattern": {
              "fillmode": "overlay",
              "size": 10,
              "solidity": 0.2
             }
            },
            "type": "barpolar"
           }
          ],
          "carpet": [
           {
            "aaxis": {
             "endlinecolor": "#2a3f5f",
             "gridcolor": "white",
             "linecolor": "white",
             "minorgridcolor": "white",
             "startlinecolor": "#2a3f5f"
            },
            "baxis": {
             "endlinecolor": "#2a3f5f",
             "gridcolor": "white",
             "linecolor": "white",
             "minorgridcolor": "white",
             "startlinecolor": "#2a3f5f"
            },
            "type": "carpet"
           }
          ],
          "choropleth": [
           {
            "colorbar": {
             "outlinewidth": 0,
             "ticks": ""
            },
            "type": "choropleth"
           }
          ],
          "contour": [
           {
            "colorbar": {
             "outlinewidth": 0,
             "ticks": ""
            },
            "colorscale": [
             [
              0,
              "#0d0887"
             ],
             [
              0.1111111111111111,
              "#46039f"
             ],
             [
              0.2222222222222222,
              "#7201a8"
             ],
             [
              0.3333333333333333,
              "#9c179e"
             ],
             [
              0.4444444444444444,
              "#bd3786"
             ],
             [
              0.5555555555555556,
              "#d8576b"
             ],
             [
              0.6666666666666666,
              "#ed7953"
             ],
             [
              0.7777777777777778,
              "#fb9f3a"
             ],
             [
              0.8888888888888888,
              "#fdca26"
             ],
             [
              1,
              "#f0f921"
             ]
            ],
            "type": "contour"
           }
          ],
          "contourcarpet": [
           {
            "colorbar": {
             "outlinewidth": 0,
             "ticks": ""
            },
            "type": "contourcarpet"
           }
          ],
          "heatmap": [
           {
            "colorbar": {
             "outlinewidth": 0,
             "ticks": ""
            },
            "colorscale": [
             [
              0,
              "#0d0887"
             ],
             [
              0.1111111111111111,
              "#46039f"
             ],
             [
              0.2222222222222222,
              "#7201a8"
             ],
             [
              0.3333333333333333,
              "#9c179e"
             ],
             [
              0.4444444444444444,
              "#bd3786"
             ],
             [
              0.5555555555555556,
              "#d8576b"
             ],
             [
              0.6666666666666666,
              "#ed7953"
             ],
             [
              0.7777777777777778,
              "#fb9f3a"
             ],
             [
              0.8888888888888888,
              "#fdca26"
             ],
             [
              1,
              "#f0f921"
             ]
            ],
            "type": "heatmap"
           }
          ],
          "heatmapgl": [
           {
            "colorbar": {
             "outlinewidth": 0,
             "ticks": ""
            },
            "colorscale": [
             [
              0,
              "#0d0887"
             ],
             [
              0.1111111111111111,
              "#46039f"
             ],
             [
              0.2222222222222222,
              "#7201a8"
             ],
             [
              0.3333333333333333,
              "#9c179e"
             ],
             [
              0.4444444444444444,
              "#bd3786"
             ],
             [
              0.5555555555555556,
              "#d8576b"
             ],
             [
              0.6666666666666666,
              "#ed7953"
             ],
             [
              0.7777777777777778,
              "#fb9f3a"
             ],
             [
              0.8888888888888888,
              "#fdca26"
             ],
             [
              1,
              "#f0f921"
             ]
            ],
            "type": "heatmapgl"
           }
          ],
          "histogram": [
           {
            "marker": {
             "pattern": {
              "fillmode": "overlay",
              "size": 10,
              "solidity": 0.2
             }
            },
            "type": "histogram"
           }
          ],
          "histogram2d": [
           {
            "colorbar": {
             "outlinewidth": 0,
             "ticks": ""
            },
            "colorscale": [
             [
              0,
              "#0d0887"
             ],
             [
              0.1111111111111111,
              "#46039f"
             ],
             [
              0.2222222222222222,
              "#7201a8"
             ],
             [
              0.3333333333333333,
              "#9c179e"
             ],
             [
              0.4444444444444444,
              "#bd3786"
             ],
             [
              0.5555555555555556,
              "#d8576b"
             ],
             [
              0.6666666666666666,
              "#ed7953"
             ],
             [
              0.7777777777777778,
              "#fb9f3a"
             ],
             [
              0.8888888888888888,
              "#fdca26"
             ],
             [
              1,
              "#f0f921"
             ]
            ],
            "type": "histogram2d"
           }
          ],
          "histogram2dcontour": [
           {
            "colorbar": {
             "outlinewidth": 0,
             "ticks": ""
            },
            "colorscale": [
             [
              0,
              "#0d0887"
             ],
             [
              0.1111111111111111,
              "#46039f"
             ],
             [
              0.2222222222222222,
              "#7201a8"
             ],
             [
              0.3333333333333333,
              "#9c179e"
             ],
             [
              0.4444444444444444,
              "#bd3786"
             ],
             [
              0.5555555555555556,
              "#d8576b"
             ],
             [
              0.6666666666666666,
              "#ed7953"
             ],
             [
              0.7777777777777778,
              "#fb9f3a"
             ],
             [
              0.8888888888888888,
              "#fdca26"
             ],
             [
              1,
              "#f0f921"
             ]
            ],
            "type": "histogram2dcontour"
           }
          ],
          "mesh3d": [
           {
            "colorbar": {
             "outlinewidth": 0,
             "ticks": ""
            },
            "type": "mesh3d"
           }
          ],
          "parcoords": [
           {
            "line": {
             "colorbar": {
              "outlinewidth": 0,
              "ticks": ""
             }
            },
            "type": "parcoords"
           }
          ],
          "pie": [
           {
            "automargin": true,
            "type": "pie"
           }
          ],
          "scatter": [
           {
            "fillpattern": {
             "fillmode": "overlay",
             "size": 10,
             "solidity": 0.2
            },
            "type": "scatter"
           }
          ],
          "scatter3d": [
           {
            "line": {
             "colorbar": {
              "outlinewidth": 0,
              "ticks": ""
             }
            },
            "marker": {
             "colorbar": {
              "outlinewidth": 0,
              "ticks": ""
             }
            },
            "type": "scatter3d"
           }
          ],
          "scattercarpet": [
           {
            "marker": {
             "colorbar": {
              "outlinewidth": 0,
              "ticks": ""
             }
            },
            "type": "scattercarpet"
           }
          ],
          "scattergeo": [
           {
            "marker": {
             "colorbar": {
              "outlinewidth": 0,
              "ticks": ""
             }
            },
            "type": "scattergeo"
           }
          ],
          "scattergl": [
           {
            "marker": {
             "colorbar": {
              "outlinewidth": 0,
              "ticks": ""
             }
            },
            "type": "scattergl"
           }
          ],
          "scattermapbox": [
           {
            "marker": {
             "colorbar": {
              "outlinewidth": 0,
              "ticks": ""
             }
            },
            "type": "scattermapbox"
           }
          ],
          "scatterpolar": [
           {
            "marker": {
             "colorbar": {
              "outlinewidth": 0,
              "ticks": ""
             }
            },
            "type": "scatterpolar"
           }
          ],
          "scatterpolargl": [
           {
            "marker": {
             "colorbar": {
              "outlinewidth": 0,
              "ticks": ""
             }
            },
            "type": "scatterpolargl"
           }
          ],
          "scatterternary": [
           {
            "marker": {
             "colorbar": {
              "outlinewidth": 0,
              "ticks": ""
             }
            },
            "type": "scatterternary"
           }
          ],
          "surface": [
           {
            "colorbar": {
             "outlinewidth": 0,
             "ticks": ""
            },
            "colorscale": [
             [
              0,
              "#0d0887"
             ],
             [
              0.1111111111111111,
              "#46039f"
             ],
             [
              0.2222222222222222,
              "#7201a8"
             ],
             [
              0.3333333333333333,
              "#9c179e"
             ],
             [
              0.4444444444444444,
              "#bd3786"
             ],
             [
              0.5555555555555556,
              "#d8576b"
             ],
             [
              0.6666666666666666,
              "#ed7953"
             ],
             [
              0.7777777777777778,
              "#fb9f3a"
             ],
             [
              0.8888888888888888,
              "#fdca26"
             ],
             [
              1,
              "#f0f921"
             ]
            ],
            "type": "surface"
           }
          ],
          "table": [
           {
            "cells": {
             "fill": {
              "color": "#EBF0F8"
             },
             "line": {
              "color": "white"
             }
            },
            "header": {
             "fill": {
              "color": "#C8D4E3"
             },
             "line": {
              "color": "white"
             }
            },
            "type": "table"
           }
          ]
         },
         "layout": {
          "annotationdefaults": {
           "arrowcolor": "#2a3f5f",
           "arrowhead": 0,
           "arrowwidth": 1
          },
          "autotypenumbers": "strict",
          "coloraxis": {
           "colorbar": {
            "outlinewidth": 0,
            "ticks": ""
           }
          },
          "colorscale": {
           "diverging": [
            [
             0,
             "#8e0152"
            ],
            [
             0.1,
             "#c51b7d"
            ],
            [
             0.2,
             "#de77ae"
            ],
            [
             0.3,
             "#f1b6da"
            ],
            [
             0.4,
             "#fde0ef"
            ],
            [
             0.5,
             "#f7f7f7"
            ],
            [
             0.6,
             "#e6f5d0"
            ],
            [
             0.7,
             "#b8e186"
            ],
            [
             0.8,
             "#7fbc41"
            ],
            [
             0.9,
             "#4d9221"
            ],
            [
             1,
             "#276419"
            ]
           ],
           "sequential": [
            [
             0,
             "#0d0887"
            ],
            [
             0.1111111111111111,
             "#46039f"
            ],
            [
             0.2222222222222222,
             "#7201a8"
            ],
            [
             0.3333333333333333,
             "#9c179e"
            ],
            [
             0.4444444444444444,
             "#bd3786"
            ],
            [
             0.5555555555555556,
             "#d8576b"
            ],
            [
             0.6666666666666666,
             "#ed7953"
            ],
            [
             0.7777777777777778,
             "#fb9f3a"
            ],
            [
             0.8888888888888888,
             "#fdca26"
            ],
            [
             1,
             "#f0f921"
            ]
           ],
           "sequentialminus": [
            [
             0,
             "#0d0887"
            ],
            [
             0.1111111111111111,
             "#46039f"
            ],
            [
             0.2222222222222222,
             "#7201a8"
            ],
            [
             0.3333333333333333,
             "#9c179e"
            ],
            [
             0.4444444444444444,
             "#bd3786"
            ],
            [
             0.5555555555555556,
             "#d8576b"
            ],
            [
             0.6666666666666666,
             "#ed7953"
            ],
            [
             0.7777777777777778,
             "#fb9f3a"
            ],
            [
             0.8888888888888888,
             "#fdca26"
            ],
            [
             1,
             "#f0f921"
            ]
           ]
          },
          "colorway": [
           "#636efa",
           "#EF553B",
           "#00cc96",
           "#ab63fa",
           "#FFA15A",
           "#19d3f3",
           "#FF6692",
           "#B6E880",
           "#FF97FF",
           "#FECB52"
          ],
          "font": {
           "color": "#2a3f5f"
          },
          "geo": {
           "bgcolor": "white",
           "lakecolor": "white",
           "landcolor": "#E5ECF6",
           "showlakes": true,
           "showland": true,
           "subunitcolor": "white"
          },
          "hoverlabel": {
           "align": "left"
          },
          "hovermode": "closest",
          "mapbox": {
           "style": "light"
          },
          "paper_bgcolor": "white",
          "plot_bgcolor": "#E5ECF6",
          "polar": {
           "angularaxis": {
            "gridcolor": "white",
            "linecolor": "white",
            "ticks": ""
           },
           "bgcolor": "#E5ECF6",
           "radialaxis": {
            "gridcolor": "white",
            "linecolor": "white",
            "ticks": ""
           }
          },
          "scene": {
           "xaxis": {
            "backgroundcolor": "#E5ECF6",
            "gridcolor": "white",
            "gridwidth": 2,
            "linecolor": "white",
            "showbackground": true,
            "ticks": "",
            "zerolinecolor": "white"
           },
           "yaxis": {
            "backgroundcolor": "#E5ECF6",
            "gridcolor": "white",
            "gridwidth": 2,
            "linecolor": "white",
            "showbackground": true,
            "ticks": "",
            "zerolinecolor": "white"
           },
           "zaxis": {
            "backgroundcolor": "#E5ECF6",
            "gridcolor": "white",
            "gridwidth": 2,
            "linecolor": "white",
            "showbackground": true,
            "ticks": "",
            "zerolinecolor": "white"
           }
          },
          "shapedefaults": {
           "line": {
            "color": "#2a3f5f"
           }
          },
          "ternary": {
           "aaxis": {
            "gridcolor": "white",
            "linecolor": "white",
            "ticks": ""
           },
           "baxis": {
            "gridcolor": "white",
            "linecolor": "white",
            "ticks": ""
           },
           "bgcolor": "#E5ECF6",
           "caxis": {
            "gridcolor": "white",
            "linecolor": "white",
            "ticks": ""
           }
          },
          "title": {
           "x": 0.05
          },
          "xaxis": {
           "automargin": true,
           "gridcolor": "white",
           "linecolor": "white",
           "ticks": "",
           "title": {
            "standoff": 15
           },
           "zerolinecolor": "white",
           "zerolinewidth": 2
          },
          "yaxis": {
           "automargin": true,
           "gridcolor": "white",
           "linecolor": "white",
           "ticks": "",
           "title": {
            "standoff": 15
           },
           "zerolinecolor": "white",
           "zerolinewidth": 2
          }
         }
        }
       }
      },
      "text/html": [
       "<div>                            <div id=\"bbff73f6-6ea5-434c-9cad-4c3efce75d33\" class=\"plotly-graph-div\" style=\"height:525px; width:100%;\"></div>            <script type=\"text/javascript\">                require([\"plotly\"], function(Plotly) {                    window.PLOTLYENV=window.PLOTLYENV || {};                                    if (document.getElementById(\"bbff73f6-6ea5-434c-9cad-4c3efce75d33\")) {                    Plotly.newPlot(                        \"bbff73f6-6ea5-434c-9cad-4c3efce75d33\",                        [{\"domain\":{\"x\":[0.0,1.0],\"y\":[0.0,1.0]},\"name\":\"\",\"type\":\"parcoords\"}],                        {\"template\":{\"data\":{\"histogram2dcontour\":[{\"type\":\"histogram2dcontour\",\"colorbar\":{\"outlinewidth\":0,\"ticks\":\"\"},\"colorscale\":[[0.0,\"#0d0887\"],[0.1111111111111111,\"#46039f\"],[0.2222222222222222,\"#7201a8\"],[0.3333333333333333,\"#9c179e\"],[0.4444444444444444,\"#bd3786\"],[0.5555555555555556,\"#d8576b\"],[0.6666666666666666,\"#ed7953\"],[0.7777777777777778,\"#fb9f3a\"],[0.8888888888888888,\"#fdca26\"],[1.0,\"#f0f921\"]]}],\"choropleth\":[{\"type\":\"choropleth\",\"colorbar\":{\"outlinewidth\":0,\"ticks\":\"\"}}],\"histogram2d\":[{\"type\":\"histogram2d\",\"colorbar\":{\"outlinewidth\":0,\"ticks\":\"\"},\"colorscale\":[[0.0,\"#0d0887\"],[0.1111111111111111,\"#46039f\"],[0.2222222222222222,\"#7201a8\"],[0.3333333333333333,\"#9c179e\"],[0.4444444444444444,\"#bd3786\"],[0.5555555555555556,\"#d8576b\"],[0.6666666666666666,\"#ed7953\"],[0.7777777777777778,\"#fb9f3a\"],[0.8888888888888888,\"#fdca26\"],[1.0,\"#f0f921\"]]}],\"heatmap\":[{\"type\":\"heatmap\",\"colorbar\":{\"outlinewidth\":0,\"ticks\":\"\"},\"colorscale\":[[0.0,\"#0d0887\"],[0.1111111111111111,\"#46039f\"],[0.2222222222222222,\"#7201a8\"],[0.3333333333333333,\"#9c179e\"],[0.4444444444444444,\"#bd3786\"],[0.5555555555555556,\"#d8576b\"],[0.6666666666666666,\"#ed7953\"],[0.7777777777777778,\"#fb9f3a\"],[0.8888888888888888,\"#fdca26\"],[1.0,\"#f0f921\"]]}],\"heatmapgl\":[{\"type\":\"heatmapgl\",\"colorbar\":{\"outlinewidth\":0,\"ticks\":\"\"},\"colorscale\":[[0.0,\"#0d0887\"],[0.1111111111111111,\"#46039f\"],[0.2222222222222222,\"#7201a8\"],[0.3333333333333333,\"#9c179e\"],[0.4444444444444444,\"#bd3786\"],[0.5555555555555556,\"#d8576b\"],[0.6666666666666666,\"#ed7953\"],[0.7777777777777778,\"#fb9f3a\"],[0.8888888888888888,\"#fdca26\"],[1.0,\"#f0f921\"]]}],\"contourcarpet\":[{\"type\":\"contourcarpet\",\"colorbar\":{\"outlinewidth\":0,\"ticks\":\"\"}}],\"contour\":[{\"type\":\"contour\",\"colorbar\":{\"outlinewidth\":0,\"ticks\":\"\"},\"colorscale\":[[0.0,\"#0d0887\"],[0.1111111111111111,\"#46039f\"],[0.2222222222222222,\"#7201a8\"],[0.3333333333333333,\"#9c179e\"],[0.4444444444444444,\"#bd3786\"],[0.5555555555555556,\"#d8576b\"],[0.6666666666666666,\"#ed7953\"],[0.7777777777777778,\"#fb9f3a\"],[0.8888888888888888,\"#fdca26\"],[1.0,\"#f0f921\"]]}],\"surface\":[{\"type\":\"surface\",\"colorbar\":{\"outlinewidth\":0,\"ticks\":\"\"},\"colorscale\":[[0.0,\"#0d0887\"],[0.1111111111111111,\"#46039f\"],[0.2222222222222222,\"#7201a8\"],[0.3333333333333333,\"#9c179e\"],[0.4444444444444444,\"#bd3786\"],[0.5555555555555556,\"#d8576b\"],[0.6666666666666666,\"#ed7953\"],[0.7777777777777778,\"#fb9f3a\"],[0.8888888888888888,\"#fdca26\"],[1.0,\"#f0f921\"]]}],\"mesh3d\":[{\"type\":\"mesh3d\",\"colorbar\":{\"outlinewidth\":0,\"ticks\":\"\"}}],\"scatter\":[{\"fillpattern\":{\"fillmode\":\"overlay\",\"size\":10,\"solidity\":0.2},\"type\":\"scatter\"}],\"parcoords\":[{\"type\":\"parcoords\",\"line\":{\"colorbar\":{\"outlinewidth\":0,\"ticks\":\"\"}}}],\"scatterpolargl\":[{\"type\":\"scatterpolargl\",\"marker\":{\"colorbar\":{\"outlinewidth\":0,\"ticks\":\"\"}}}],\"bar\":[{\"error_x\":{\"color\":\"#2a3f5f\"},\"error_y\":{\"color\":\"#2a3f5f\"},\"marker\":{\"line\":{\"color\":\"#E5ECF6\",\"width\":0.5},\"pattern\":{\"fillmode\":\"overlay\",\"size\":10,\"solidity\":0.2}},\"type\":\"bar\"}],\"scattergeo\":[{\"type\":\"scattergeo\",\"marker\":{\"colorbar\":{\"outlinewidth\":0,\"ticks\":\"\"}}}],\"scatterpolar\":[{\"type\":\"scatterpolar\",\"marker\":{\"colorbar\":{\"outlinewidth\":0,\"ticks\":\"\"}}}],\"histogram\":[{\"marker\":{\"pattern\":{\"fillmode\":\"overlay\",\"size\":10,\"solidity\":0.2}},\"type\":\"histogram\"}],\"scattergl\":[{\"type\":\"scattergl\",\"marker\":{\"colorbar\":{\"outlinewidth\":0,\"ticks\":\"\"}}}],\"scatter3d\":[{\"type\":\"scatter3d\",\"line\":{\"colorbar\":{\"outlinewidth\":0,\"ticks\":\"\"}},\"marker\":{\"colorbar\":{\"outlinewidth\":0,\"ticks\":\"\"}}}],\"scattermapbox\":[{\"type\":\"scattermapbox\",\"marker\":{\"colorbar\":{\"outlinewidth\":0,\"ticks\":\"\"}}}],\"scatterternary\":[{\"type\":\"scatterternary\",\"marker\":{\"colorbar\":{\"outlinewidth\":0,\"ticks\":\"\"}}}],\"scattercarpet\":[{\"type\":\"scattercarpet\",\"marker\":{\"colorbar\":{\"outlinewidth\":0,\"ticks\":\"\"}}}],\"carpet\":[{\"aaxis\":{\"endlinecolor\":\"#2a3f5f\",\"gridcolor\":\"white\",\"linecolor\":\"white\",\"minorgridcolor\":\"white\",\"startlinecolor\":\"#2a3f5f\"},\"baxis\":{\"endlinecolor\":\"#2a3f5f\",\"gridcolor\":\"white\",\"linecolor\":\"white\",\"minorgridcolor\":\"white\",\"startlinecolor\":\"#2a3f5f\"},\"type\":\"carpet\"}],\"table\":[{\"cells\":{\"fill\":{\"color\":\"#EBF0F8\"},\"line\":{\"color\":\"white\"}},\"header\":{\"fill\":{\"color\":\"#C8D4E3\"},\"line\":{\"color\":\"white\"}},\"type\":\"table\"}],\"barpolar\":[{\"marker\":{\"line\":{\"color\":\"#E5ECF6\",\"width\":0.5},\"pattern\":{\"fillmode\":\"overlay\",\"size\":10,\"solidity\":0.2}},\"type\":\"barpolar\"}],\"pie\":[{\"automargin\":true,\"type\":\"pie\"}]},\"layout\":{\"autotypenumbers\":\"strict\",\"colorway\":[\"#636efa\",\"#EF553B\",\"#00cc96\",\"#ab63fa\",\"#FFA15A\",\"#19d3f3\",\"#FF6692\",\"#B6E880\",\"#FF97FF\",\"#FECB52\"],\"font\":{\"color\":\"#2a3f5f\"},\"hovermode\":\"closest\",\"hoverlabel\":{\"align\":\"left\"},\"paper_bgcolor\":\"white\",\"plot_bgcolor\":\"#E5ECF6\",\"polar\":{\"bgcolor\":\"#E5ECF6\",\"angularaxis\":{\"gridcolor\":\"white\",\"linecolor\":\"white\",\"ticks\":\"\"},\"radialaxis\":{\"gridcolor\":\"white\",\"linecolor\":\"white\",\"ticks\":\"\"}},\"ternary\":{\"bgcolor\":\"#E5ECF6\",\"aaxis\":{\"gridcolor\":\"white\",\"linecolor\":\"white\",\"ticks\":\"\"},\"baxis\":{\"gridcolor\":\"white\",\"linecolor\":\"white\",\"ticks\":\"\"},\"caxis\":{\"gridcolor\":\"white\",\"linecolor\":\"white\",\"ticks\":\"\"}},\"coloraxis\":{\"colorbar\":{\"outlinewidth\":0,\"ticks\":\"\"}},\"colorscale\":{\"sequential\":[[0.0,\"#0d0887\"],[0.1111111111111111,\"#46039f\"],[0.2222222222222222,\"#7201a8\"],[0.3333333333333333,\"#9c179e\"],[0.4444444444444444,\"#bd3786\"],[0.5555555555555556,\"#d8576b\"],[0.6666666666666666,\"#ed7953\"],[0.7777777777777778,\"#fb9f3a\"],[0.8888888888888888,\"#fdca26\"],[1.0,\"#f0f921\"]],\"sequentialminus\":[[0.0,\"#0d0887\"],[0.1111111111111111,\"#46039f\"],[0.2222222222222222,\"#7201a8\"],[0.3333333333333333,\"#9c179e\"],[0.4444444444444444,\"#bd3786\"],[0.5555555555555556,\"#d8576b\"],[0.6666666666666666,\"#ed7953\"],[0.7777777777777778,\"#fb9f3a\"],[0.8888888888888888,\"#fdca26\"],[1.0,\"#f0f921\"]],\"diverging\":[[0,\"#8e0152\"],[0.1,\"#c51b7d\"],[0.2,\"#de77ae\"],[0.3,\"#f1b6da\"],[0.4,\"#fde0ef\"],[0.5,\"#f7f7f7\"],[0.6,\"#e6f5d0\"],[0.7,\"#b8e186\"],[0.8,\"#7fbc41\"],[0.9,\"#4d9221\"],[1,\"#276419\"]]},\"xaxis\":{\"gridcolor\":\"white\",\"linecolor\":\"white\",\"ticks\":\"\",\"title\":{\"standoff\":15},\"zerolinecolor\":\"white\",\"automargin\":true,\"zerolinewidth\":2},\"yaxis\":{\"gridcolor\":\"white\",\"linecolor\":\"white\",\"ticks\":\"\",\"title\":{\"standoff\":15},\"zerolinecolor\":\"white\",\"automargin\":true,\"zerolinewidth\":2},\"scene\":{\"xaxis\":{\"backgroundcolor\":\"#E5ECF6\",\"gridcolor\":\"white\",\"linecolor\":\"white\",\"showbackground\":true,\"ticks\":\"\",\"zerolinecolor\":\"white\",\"gridwidth\":2},\"yaxis\":{\"backgroundcolor\":\"#E5ECF6\",\"gridcolor\":\"white\",\"linecolor\":\"white\",\"showbackground\":true,\"ticks\":\"\",\"zerolinecolor\":\"white\",\"gridwidth\":2},\"zaxis\":{\"backgroundcolor\":\"#E5ECF6\",\"gridcolor\":\"white\",\"linecolor\":\"white\",\"showbackground\":true,\"ticks\":\"\",\"zerolinecolor\":\"white\",\"gridwidth\":2}},\"shapedefaults\":{\"line\":{\"color\":\"#2a3f5f\"}},\"annotationdefaults\":{\"arrowcolor\":\"#2a3f5f\",\"arrowhead\":0,\"arrowwidth\":1},\"geo\":{\"bgcolor\":\"white\",\"landcolor\":\"#E5ECF6\",\"subunitcolor\":\"white\",\"showland\":true,\"showlakes\":true,\"lakecolor\":\"white\"},\"title\":{\"x\":0.05},\"mapbox\":{\"style\":\"light\"}}},\"legend\":{\"tracegroupgap\":0},\"margin\":{\"t\":60}},                        {\"responsive\": true}                    ).then(function(){\n",
       "                            \n",
       "var gd = document.getElementById('bbff73f6-6ea5-434c-9cad-4c3efce75d33');\n",
       "var x = new MutationObserver(function (mutations, observer) {{\n",
       "        var display = window.getComputedStyle(gd).display;\n",
       "        if (!display || display === 'none') {{\n",
       "            console.log([gd, 'removed!']);\n",
       "            Plotly.purge(gd);\n",
       "            observer.disconnect();\n",
       "        }}\n",
       "}});\n",
       "\n",
       "// Listen for the removal of the full notebook cells\n",
       "var notebookContainer = gd.closest('#notebook-container');\n",
       "if (notebookContainer) {{\n",
       "    x.observe(notebookContainer, {childList: true});\n",
       "}}\n",
       "\n",
       "// Listen for the clearing of the current output cell\n",
       "var outputEl = gd.closest('.output');\n",
       "if (outputEl) {{\n",
       "    x.observe(outputEl, {childList: true});\n",
       "}}\n",
       "\n",
       "                        })                };                });            </script>        </div>"
      ]
     },
     "metadata": {},
     "output_type": "display_data"
    }
   ],
   "source": [
    "tab= pd.DataFrame(0, columns=range(2),index=range(30))\n",
    "a2=list(['United States','United States','United States','India','India','India',\n",
    "         'United Kingdom','United Kingdom','United Kingdom', \n",
    "         'Canada','Canada','Canada', 'France','France','France', 'Japan','Japan','Japan',\n",
    "         'Spain', 'Spain', 'Spain', 'South Korea','South Korea','South Korea',\n",
    "         'Germany','Germany','Germany', 'Mexico','Mexico','Mexico'])\n",
    "tab[1] = list(['Dramas','Comedies','Action & Adventure','Dramas','International Movies','Comedies',\n",
    "          'Dramas','British TV Shows','Comedies','Comedies','Dramas', 'Thrillers',\n",
    "          'Dramas', 'International Movies', 'Comedies', 'International TV Shows', 'Anime Series', 'Action & Adventure',\n",
    "          'Dramas', 'International Movies', 'Comedies', 'International TV Shows', 'Korean TV Shows','Romantic TV Shows',\n",
    "          'Dramas', 'International Movies', 'Comedies', 'Dramas', 'International Movies', 'Comedies'])\n",
    "tab[0]=a2\n",
    "tab.index = a2\n",
    "tab\n",
    "\n",
    "fig = px.parallel_coordinates(tab)\n",
    "fig.show()"
   ]
  }
 ],
 "metadata": {
  "interpreter": {
   "hash": "aee8b7b246df8f9039afb4144a1f6fd8d2ca17a180786b69acc140d282b71a49"
  },
  "kernelspec": {
   "display_name": "py39viz",
   "language": "python",
   "name": "py39viz"
  },
  "language_info": {
   "codemirror_mode": {
    "name": "ipython",
    "version": 3
   },
   "file_extension": ".py",
   "mimetype": "text/x-python",
   "name": "python",
   "nbconvert_exporter": "python",
   "pygments_lexer": "ipython3",
   "version": "3.9.13"
  }
 },
 "nbformat": 4,
 "nbformat_minor": 5
}
