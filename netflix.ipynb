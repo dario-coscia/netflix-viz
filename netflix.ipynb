{
 "cells": [
  {
   "cell_type": "markdown",
   "source": [
    "# Netflix: Exploratory Data Analysis "
   ],
   "metadata": {}
  },
  {
   "cell_type": "markdown",
   "source": [
    "In this notebook we perform some exploratory data analysis to answer Netflix related questions. Netflix is one of the leading streaming platforms in the world, with a diverse catalog encompassing movies and series for different audiences. Data visualization will be highly used to give insights of the data. The dataset is available on [Kaggle](https://www.kaggle.com/datasets/shivamb/netflix-shows)"
   ],
   "metadata": {}
  },
  {
   "cell_type": "markdown",
   "source": [
    "## Dataset Cleaning\n",
    "\n",
    "We first import some useful modules for the datavisualization and analysis"
   ],
   "metadata": {}
  },
  {
   "cell_type": "code",
   "execution_count": 1,
   "source": [
    "import pandas as pd               # data cleaning and analysis\n",
    "import matplotlib.pyplot as plt   # visualization\n",
    "import seaborn as sns             # visualization\n",
    "import numpy as np\n"
   ],
   "outputs": [],
   "metadata": {}
  },
  {
   "cell_type": "markdown",
   "source": [
    "Let's start by getting some information of the dataset"
   ],
   "metadata": {}
  },
  {
   "cell_type": "code",
   "execution_count": 2,
   "source": [
    "df = pd.read_csv('netflix_titles.csv')  # reading the csv file\n",
    "df.info()                               # getting info of the dataset"
   ],
   "outputs": [
    {
     "output_type": "stream",
     "name": "stdout",
     "text": [
      "<class 'pandas.core.frame.DataFrame'>\n",
      "RangeIndex: 8807 entries, 0 to 8806\n",
      "Data columns (total 12 columns):\n",
      " #   Column        Non-Null Count  Dtype \n",
      "---  ------        --------------  ----- \n",
      " 0   show_id       8807 non-null   object\n",
      " 1   type          8807 non-null   object\n",
      " 2   title         8807 non-null   object\n",
      " 3   director      6173 non-null   object\n",
      " 4   cast          7982 non-null   object\n",
      " 5   country       7976 non-null   object\n",
      " 6   date_added    8797 non-null   object\n",
      " 7   release_year  8807 non-null   int64 \n",
      " 8   rating        8803 non-null   object\n",
      " 9   duration      8804 non-null   object\n",
      " 10  listed_in     8807 non-null   object\n",
      " 11  description   8807 non-null   object\n",
      "dtypes: int64(1), object(11)\n",
      "memory usage: 825.8+ KB\n"
     ]
    }
   ],
   "metadata": {}
  },
  {
   "cell_type": "markdown",
   "source": [
    "As we can see there are some missing data from the dataset, e.g. `director` or `cast`. Let's get an idea of the percentage of missing data. "
   ],
   "metadata": {}
  },
  {
   "cell_type": "code",
   "execution_count": 3,
   "source": [
    "100*(df.isna().sum()/len(df)).to_frame(name=\"percentage missing data\").round(4)\n"
   ],
   "outputs": [
    {
     "output_type": "execute_result",
     "data": {
      "text/html": [
       "<div>\n",
       "<style scoped>\n",
       "    .dataframe tbody tr th:only-of-type {\n",
       "        vertical-align: middle;\n",
       "    }\n",
       "\n",
       "    .dataframe tbody tr th {\n",
       "        vertical-align: top;\n",
       "    }\n",
       "\n",
       "    .dataframe thead th {\n",
       "        text-align: right;\n",
       "    }\n",
       "</style>\n",
       "<table border=\"1\" class=\"dataframe\">\n",
       "  <thead>\n",
       "    <tr style=\"text-align: right;\">\n",
       "      <th></th>\n",
       "      <th>percentage missing data</th>\n",
       "    </tr>\n",
       "  </thead>\n",
       "  <tbody>\n",
       "    <tr>\n",
       "      <th>show_id</th>\n",
       "      <td>0.00</td>\n",
       "    </tr>\n",
       "    <tr>\n",
       "      <th>type</th>\n",
       "      <td>0.00</td>\n",
       "    </tr>\n",
       "    <tr>\n",
       "      <th>title</th>\n",
       "      <td>0.00</td>\n",
       "    </tr>\n",
       "    <tr>\n",
       "      <th>director</th>\n",
       "      <td>29.91</td>\n",
       "    </tr>\n",
       "    <tr>\n",
       "      <th>cast</th>\n",
       "      <td>9.37</td>\n",
       "    </tr>\n",
       "    <tr>\n",
       "      <th>country</th>\n",
       "      <td>9.44</td>\n",
       "    </tr>\n",
       "    <tr>\n",
       "      <th>date_added</th>\n",
       "      <td>0.11</td>\n",
       "    </tr>\n",
       "    <tr>\n",
       "      <th>release_year</th>\n",
       "      <td>0.00</td>\n",
       "    </tr>\n",
       "    <tr>\n",
       "      <th>rating</th>\n",
       "      <td>0.05</td>\n",
       "    </tr>\n",
       "    <tr>\n",
       "      <th>duration</th>\n",
       "      <td>0.03</td>\n",
       "    </tr>\n",
       "    <tr>\n",
       "      <th>listed_in</th>\n",
       "      <td>0.00</td>\n",
       "    </tr>\n",
       "    <tr>\n",
       "      <th>description</th>\n",
       "      <td>0.00</td>\n",
       "    </tr>\n",
       "  </tbody>\n",
       "</table>\n",
       "</div>"
      ],
      "text/plain": [
       "              percentage missing data\n",
       "show_id                          0.00\n",
       "type                             0.00\n",
       "title                            0.00\n",
       "director                        29.91\n",
       "cast                             9.37\n",
       "country                          9.44\n",
       "date_added                       0.11\n",
       "release_year                     0.00\n",
       "rating                           0.05\n",
       "duration                         0.03\n",
       "listed_in                        0.00\n",
       "description                      0.00"
      ]
     },
     "metadata": {},
     "execution_count": 3
    }
   ],
   "metadata": {}
  },
  {
   "cell_type": "markdown",
   "source": [
    "Most of the data missing concerns the attribute `director` (roughly 30%), `cast` and `country` (roughly 9.5%). We will not use `director` (or `cast`) information during our analysis, hence we can leave it as it is, and do not erase the empty rows. This is done to preserve the integrity of the dataset, and to not miss any valuable information. We will use `country` information, but we will keep (for same reason as above) empty rows.\n",
    "\n",
    "Notice that, before proceding in the visualization, the date should be changed. In particular, we want to add some columns to know when a movie is added (month, year)."
   ],
   "metadata": {}
  },
  {
   "cell_type": "code",
   "execution_count": 4,
   "source": [
    "df[\"date_added\"] = pd.to_datetime(df['date_added'])\n",
    "df['month_added'] = df['date_added'].dt.month\n",
    "df['month_name_added'] = df['date_added'].dt.month_name()\n",
    "df['year_added'] = df['date_added'].dt.year\n"
   ],
   "outputs": [],
   "metadata": {}
  },
  {
   "cell_type": "markdown",
   "source": [
    "Great, now also date is okay! Let's start with some visualizations."
   ],
   "metadata": {}
  },
  {
   "cell_type": "markdown",
   "source": [
    "## Visualizations\n",
    "\n",
    "We will striclty focus on answering three questions:\n",
    "\n",
    "* Question 1\n",
    "* Question 2\n",
    "* Question 3\n",
    "\n",
    "Notice that where possible, we will use Netflix colorscheme palette and font type. Nice tip from this [website](https://www.kaggle.com/code/joshuaswords/netflix-data-visualization)."
   ],
   "metadata": {}
  },
  {
   "cell_type": "code",
   "execution_count": 5,
   "source": [
    "sns.palplot(['#221f1f', '#b20710', '#e50914', '#f5f5f1'])  # palette\n",
    "\n",
    "plt.title(\"Netflix brand palette \", loc='left',\n",
    "          fontfamily='serif', fontsize=18, y=1.2)\n",
    "plt.show()\n",
    " "
   ],
   "outputs": [
    {
     "output_type": "display_data",
     "data": {
      "image/png": "[encoded data removed]",
      "text/plain": [
       "<Figure size 288x72 with 1 Axes>"
      ]
     },
     "metadata": {
      "needs_background": "light"
     }
    }
   ],
   "metadata": {}
  },
  {
   "cell_type": "markdown",
   "source": [
    "### Questions\n",
    "\n",
    "1. Which thems are more appealing for netflix users? And in what format? (bar plot)\n",
    "2. What are the most themes for each country production? (grafico con connessioni)\n",
    "3. small multiples paesi con time"
   ],
   "metadata": {}
  },
  {
   "cell_type": "markdown",
   "source": [
    "### Viz"
   ],
   "metadata": {}
  },
  {
   "cell_type": "code",
   "execution_count": 6,
   "source": [
    "# Generate the dataset\n",
    "\n",
    "df['genre'] = df['listed_in'].apply(\n",
    "    lambda x:  x.replace(' ,', ',').replace(', ', ',').split(','))\n",
    "Types = []\n",
    "for i in df['genre']:\n",
    "    Types += i\n",
    "    \n",
    "unique_genres = list(set(Types))\n",
    "# create new df\n",
    "tmp = pd.DataFrame(unique_genres)\n",
    "tmp.columns = [\"genres\"]\n",
    "tmp[\"genres\"] = tmp[\"genres\"].apply(\n",
    "    lambda x:  x.replace('TV Shows', '').replace(' TV Shows', '').replace(' TV Shows ', '').replace('TV Shows ', '').replace(' TV', '').replace(' TV ', '').replace('TV ', ''))\n",
    "tmp[\"genres\"] = tmp[\"genres\"].apply(\n",
    "    lambda x:  x.replace(' Movies', '').replace(\n",
    "        ' Movies ', '').replace('Movies ', '').replace('Movies', '').replace(' Series', '').replace(\n",
    "        ' Series ', '').replace('Series ', ''))\n",
    "tmp[\"genres\"] = tmp[\"genres\"].apply(lambda x:  x.replace(' ', ''))\n",
    "unique_genres = tmp.dropna()[\"genres\"].unique()[1:]\n",
    "genres_df = pd.DataFrame(unique_genres)\n",
    "genres_df.columns = [\"genres\"]\n",
    "empty = np.zeros(len(genres_df))\n",
    "genres_df[\"movies\"] = empty\n",
    "genres_df[\"tv\"] = empty\n",
    "df['genre_split'] = df['listed_in'].apply(\n",
    "    lambda x:  x.replace(' ,', ',').replace(', ', ',').replace(' ', ',').split(','))\n",
    "\n",
    "\n",
    "def contains_word(s, w):\n",
    "    a = (' ' + w) in (' ' + s)\n",
    "    return a\n",
    "\n",
    "\n",
    "for tidx, type_ in enumerate(genres_df['genres']):\n",
    "    movies = 0\n",
    "    tv = 0\n",
    "    for idx, i in enumerate(df['genre_split']):\n",
    "        for word in i:\n",
    "            if word == 'Docuseries':\n",
    "                word = 'Documentaries'\n",
    "            if word == \"Kids'\":\n",
    "                word = 'Children&Family'\n",
    "            if word == 'Thrillers':\n",
    "                word = 'Crime'\n",
    "\n",
    "            if contains_word(type_, word):\n",
    "                if df[\"type\"][idx] == 'Movie':\n",
    "                    movies += 1\n",
    "                else:\n",
    "                    tv += 1\n",
    "\n",
    "    genres_df[\"movies\"][tidx] = movies\n",
    "    genres_df[\"tv\"][tidx] = tv\n",
    "\n",
    "genres_df['tot_count'] = genres_df['movies']+genres_df['tv']\n",
    "genres_df['percentage_movies'] = (\n",
    "    genres_df['movies'] / genres_df['tot_count']) \n",
    "genres_df['percentage_tv'] = (genres_df['tv'] / genres_df['tot_count'])\n",
    "genres_df = genres_df.sort_values('tot_count', ascending=False).dropna()\n"
   ],
   "outputs": [
    {
     "output_type": "stream",
     "name": "stderr",
     "text": [
      "/var/folders/k7/4r6y5q6904j1f009bpqwhy380000gn/T/ipykernel_34800/773297639.py:53: SettingWithCopyWarning: \n",
      "A value is trying to be set on a copy of a slice from a DataFrame\n",
      "\n",
      "See the caveats in the documentation: https://pandas.pydata.org/pandas-docs/stable/user_guide/indexing.html#returning-a-view-versus-a-copy\n",
      "  genres_df[\"movies\"][tidx] = movies\n",
      "/var/folders/k7/4r6y5q6904j1f009bpqwhy380000gn/T/ipykernel_34800/773297639.py:54: SettingWithCopyWarning: \n",
      "A value is trying to be set on a copy of a slice from a DataFrame\n",
      "\n",
      "See the caveats in the documentation: https://pandas.pydata.org/pandas-docs/stable/user_guide/indexing.html#returning-a-view-versus-a-copy\n",
      "  genres_df[\"tv\"][tidx] = tv\n"
     ]
    }
   ],
   "metadata": {}
  },
  {
   "cell_type": "code",
   "execution_count": 7,
   "source": [
    "df = genres_df[:8]\n",
    "data_q2q3_ratio = pd.DataFrame(df['genres'])\n",
    "data_q2q3_ratio.columns = [\"type\"]\n",
    "data_q2q3_ratio[\"Movie\"] = df['percentage_movies']\n",
    "data_q2q3_ratio[\"TV Show\"] = df['percentage_tv']\n"
   ],
   "outputs": [],
   "metadata": {}
  },
  {
   "cell_type": "code",
   "execution_count": 8,
   "source": [
    "data_q2q3_ratio = data_q2q3_ratio.sort_values(\"Movie\", ascending=True)\n",
    "data_q2q3_ratio = data_q2q3_ratio.set_index('type')\n"
   ],
   "outputs": [],
   "metadata": {}
  },
  {
   "cell_type": "code",
   "execution_count": 22,
   "source": [
    "fig, ax = plt.subplots(1,1,figsize=(15, 8),)\n",
    "\n",
    "ax.barh(data_q2q3_ratio.index, data_q2q3_ratio['Movie'], \n",
    "        color='#b20710', alpha=0.8, label='Movie')\n",
    "ax.barh(data_q2q3_ratio.index, data_q2q3_ratio['TV Show'], left=data_q2q3_ratio['Movie'], \n",
    "        color='#221f1f', alpha=0.8, label='TV Show')\n",
    "\n",
    "\n",
    "ax.set_xlim(0, 1)\n",
    "ax.set_xticks([])\n",
    "ax.set_yticklabels(data_q2q3_ratio.index, fontfamily='serif', fontsize=11)\n",
    "\n",
    "# male percentage\n",
    "for i in data_q2q3_ratio.index:\n",
    "    ax.annotate(f\"{data_q2q3_ratio['Movie'][i]*100:.3}%\", \n",
    "                   xy=(data_q2q3_ratio['Movie'][i]/2, i),\n",
    "                   va = 'center', ha='center',fontsize=12, fontweight='light', fontfamily='serif',\n",
    "                   color='white')\n",
    "\n",
    "for i in data_q2q3_ratio.index:\n",
    "    ax.annotate(f\"{data_q2q3_ratio['TV Show'][i]*100:.3}%\", \n",
    "                   xy=(data_q2q3_ratio['Movie'][i]+data_q2q3_ratio['TV Show'][i]/2, i),\n",
    "                   va = 'center', ha='center',fontsize=12, fontweight='light', fontfamily='serif',\n",
    "                   color='white')\n",
    "    \n",
    "\n",
    "fig.text(0.13, 0.93, 'Top 8 genre for Movie & TV Show split', fontsize=18, fontweight='bold', fontfamily='serif')   \n",
    "fig.text(0.131, 0.89, 'Percent Stacked Bar Chart', fontsize=14,fontfamily='serif')   \n",
    "\n",
    "for s in ['top', 'left', 'right', 'bottom']:\n",
    "    ax.spines[s].set_visible(False)\n",
    "    \n",
    "#ax.legend(loc='lower center', ncol=3, bbox_to_anchor=(0.5, -0.06))\n",
    "\n",
    "fig.text(0.75,0.9,\"Movie\", fontweight=\"bold\", fontfamily='serif', fontsize=15, color='#b20710')\n",
    "fig.text(0.81,0.9,\"|\", fontweight=\"bold\", fontfamily='serif', fontsize=15, color='black')\n",
    "fig.text(0.82, 0.9, \"TV Show\", fontweight=\"bold\",\n",
    "         fontfamily='serif', fontsize=15, color='#221f1f')\n",
    "\n",
    "\n",
    "\n",
    "\n",
    "import matplotlib.lines as lines\n",
    "l1 = lines.Line2D([1, 1], [0, 1], transform=fig.transFigure, figure=fig,color='white',lw=0.2)\n",
    "fig.lines.extend([l1])\n",
    "\n",
    "\n",
    "\n",
    "\n",
    "ax.tick_params(axis='both', which='major', labelsize=12)\n",
    "ax.tick_params(axis=u'both', which=u'both',length=0)\n",
    "\n",
    "\n",
    "plt.savefig(\"fig1.pdf\", dpi=400)"
   ],
   "outputs": [
    {
     "output_type": "stream",
     "name": "stderr",
     "text": [
      "/var/folders/k7/4r6y5q6904j1f009bpqwhy380000gn/T/ipykernel_34800/2686465269.py:11: UserWarning: FixedFormatter should only be used together with FixedLocator\n",
      "  ax.set_yticklabels(data_q2q3_ratio.index, fontfamily='serif', fontsize=11)\n"
     ]
    },
    {
     "output_type": "display_data",
     "data": {
      "image/png": "[encoded data removed]",
      "text/plain": [
       "<Figure size 1080x576 with 1 Axes>"
      ]
     },
     "metadata": {
      "needs_background": "light"
     }
    }
   ],
   "metadata": {}
  },
  {
   "cell_type": "code",
   "execution_count": null,
   "source": [],
   "outputs": [],
   "metadata": {}
  },
  {
   "cell_type": "code",
   "execution_count": null,
   "source": [],
   "outputs": [],
   "metadata": {}
  },
  {
   "cell_type": "code",
   "execution_count": null,
   "source": [],
   "outputs": [],
   "metadata": {}
  },
  {
   "cell_type": "code",
   "execution_count": null,
   "source": [],
   "outputs": [],
   "metadata": {}
  }
 ],
 "metadata": {
  "language_info": {
   "name": "python",
   "version": "3.9.0",
   "mimetype": "text/x-python",
   "codemirror_mode": {
    "name": "ipython",
    "version": 3
   },
   "pygments_lexer": "ipython3",
   "nbconvert_exporter": "python",
   "file_extension": ".py"
  },
  "kernelspec": {
   "name": "python3",
   "display_name": "Python 3.9.0 64-bit"
  },
  "interpreter": {
   "hash": "aee8b7b246df8f9039afb4144a1f6fd8d2ca17a180786b69acc140d282b71a49"
  }
 },
 "nbformat": 4,
 "nbformat_minor": 5
}