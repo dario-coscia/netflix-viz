{
 "cells": [
  {
   "cell_type": "code",
   "execution_count": 6,
   "id": "76b6991e",
   "metadata": {},
   "outputs": [],
   "source": [
    "import pandas as pd               # data cleaning and analysis\n",
    "import matplotlib.pyplot as plt   # visualization\n",
    "import seaborn as sns             # visualization\n",
    "import numpy as np\n",
    "import plotly.express as px"
   ]
  }
 ],
 "metadata": {
  "kernelspec": {
   "display_name": "py39viz",
   "language": "python",
   "name": "py39viz"
  },
  "language_info": {
   "codemirror_mode": {
    "name": "ipython",
    "version": 3
   },
   "file_extension": ".py",
   "mimetype": "text/x-python",
   "name": "python",
   "nbconvert_exporter": "python",
   "pygments_lexer": "ipython3",
   "version": "3.9.13"
  }
 },
 "nbformat": 4,
 "nbformat_minor": 5
}
